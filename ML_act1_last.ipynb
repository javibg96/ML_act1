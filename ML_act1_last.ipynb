{
 "cells": [
  {
   "cell_type": "markdown",
   "metadata": {
    "id": "yyODZcWH_-qO"
   },
   "source": [
    "# ACTIVIDAD 1 - ARBOLES Y RANDOM FOREST PARA REGRESIÓN Y CLASIFICACIÓN"
   ]
  },
  {
   "cell_type": "markdown",
   "metadata": {
    "id": "0DVdEHgQVC0U"
   },
   "source": [
    "# Índice\n",
    "[1. Preparación del entorno](#1)   \n",
    "&nbsp;&nbsp;[1.1. Importación de librerias](#1.1)  \n",
    "&nbsp;&nbsp;[1.2. Carga de datos](#1.2)  \n",
    "[2. Analisis descriptivo de los datos](#2)\n"
   ]
  },
  {
   "cell_type": "markdown",
   "metadata": {
    "id": "SDSGP_bXG4R1"
   },
   "source": [
    "# 1. Preparación del entorno <a name=\"1\"></a>"
   ]
  },
  {
   "cell_type": "markdown",
   "metadata": {
    "id": "OY_NpLAkVigA"
   },
   "source": [
    "## 1.1. Importación de librerias <a name=\"1.1\"></a>"
   ]
  },
  {
   "cell_type": "code",
   "execution_count": 1,
   "metadata": {
    "id": "9zOjTnu5mCnF"
   },
   "outputs": [],
   "source": [
    "import os\n",
    "import warnings\n",
    "warnings.filterwarnings(\"ignore\")\n",
    "\n",
    "import pandas as pd\n",
    "import numpy as np\n",
    "\n",
    "# Representacion y graficos\n",
    "import matplotlib.pyplot as plt\n",
    "import seaborn as sns\n",
    "\n",
    "from sklearn import tree\n",
    "from sklearn.tree import DecisionTreeRegressor, DecisionTreeClassifier\n",
    "from sklearn.ensemble import RandomForestRegressor, RandomForestClassifier\n",
    "from sklearn.model_selection import KFold, train_test_split, StratifiedKFold, GridSearchCV\n",
    "from sklearn.metrics import mean_squared_error, mean_absolute_error, mean_squared_log_error, confusion_matrix, \\\n",
    "accuracy_score, roc_auc_score, f1_score, recall_score"
   ]
  },
  {
   "cell_type": "markdown",
   "metadata": {
    "id": "SJ7QUx3MVllt"
   },
   "source": [
    "## 1.2. Carga de datos <a name=\"1.1\"></a>"
   ]
  },
  {
   "cell_type": "markdown",
   "metadata": {
    "id": "0_8UgxTdYFEa"
   },
   "source": [
    "##### Cargar el dataframe"
   ]
  },
  {
   "cell_type": "code",
   "execution_count": 2,
   "metadata": {
    "id": "OwpbKdf_XKcH"
   },
   "outputs": [],
   "source": [
    "df = pd.read_csv(\"housing_train.csv\").drop(columns=[\"Id\"])"
   ]
  },
  {
   "cell_type": "markdown",
   "metadata": {
    "id": "fkF-ojjoH9GF"
   },
   "source": [
    "# 2. Analisis desctiptivo de los datos <a name=\"2\"></a>"
   ]
  },
  {
   "cell_type": "markdown",
   "metadata": {
    "id": "1CT2uNIYbSH7"
   },
   "source": [
    "##### Variables categoricas y numéricas \n",
    "\n",
    "Separamos primero las diferentes variables del dataset en categoricas y numericas observando su tipo y las asignamos a dos nuevas listas de datos, después ambas listas se muestran por pantalla."
   ]
  },
  {
   "cell_type": "code",
   "execution_count": 3,
   "metadata": {
    "colab": {
     "base_uri": "https://localhost:8080/"
    },
    "id": "yz0E1AhUa4qe",
    "outputId": "07df174b-4689-4d88-b315-18dc2acc6a2d"
   },
   "outputs": [
    {
     "name": "stdout",
     "output_type": "stream",
     "text": [
      "Datos categoricos: ['MSZoning', 'Street', 'Alley', 'LotShape', 'LandContour', 'Utilities', 'LotConfig', 'LandSlope', 'Neighborhood', 'Condition1', 'Condition2', 'BldgType', 'HouseStyle', 'RoofStyle', 'RoofMatl', 'Exterior1st', 'Exterior2nd', 'MasVnrType', 'ExterQual', 'ExterCond', 'Foundation', 'BsmtQual', 'BsmtCond', 'BsmtExposure', 'BsmtFinType1', 'BsmtFinType2', 'Heating', 'HeatingQC', 'CentralAir', 'Electrical', 'KitchenQual', 'Functional', 'FireplaceQu', 'GarageType', 'GarageFinish', 'GarageQual', 'GarageCond', 'PavedDrive', 'PoolQC', 'Fence', 'MiscFeature', 'SaleType', 'SaleCondition']\n",
      "\n",
      "Datos numericos: ['MSSubClass', 'LotFrontage', 'LotArea', 'OverallQual', 'OverallCond', 'YearBuilt', 'YearRemodAdd', 'MasVnrArea', 'BsmtFinSF1', 'BsmtFinSF2', 'BsmtUnfSF', 'TotalBsmtSF', '1stFlrSF', '2ndFlrSF', 'LowQualFinSF', 'GrLivArea', 'BsmtFullBath', 'BsmtHalfBath', 'FullBath', 'HalfBath', 'BedroomAbvGr', 'KitchenAbvGr', 'TotRmsAbvGrd', 'Fireplaces', 'GarageYrBlt', 'GarageCars', 'GarageArea', 'WoodDeckSF', 'OpenPorchSF', 'EnclosedPorch', '3SsnPorch', 'ScreenPorch', 'PoolArea', 'MiscVal', 'MoSold', 'YrSold']\n"
     ]
    }
   ],
   "source": [
    "numericos = [f for f in df.columns if df.dtypes[f] != 'object']\n",
    "numericos.remove('SalePrice')\n",
    "categoricos = [f for f in df.columns if df.dtypes[f] == 'object']\n",
    "\n",
    "print(\"Datos categoricos: {}\".format(categoricos))\n",
    "print()\n",
    "print(\"Datos numericos: {}\".format(numericos))"
   ]
  },
  {
   "cell_type": "markdown",
   "metadata": {
    "id": "fcxuw5GKbiTm"
   },
   "source": [
    "##### Datos estadisticos de las variables numéricas\n",
    "\n",
    "De las variables numéricas se muestran los distintos datos de media, mediana, minimo, máximo y cuartiles."
   ]
  },
  {
   "cell_type": "code",
   "execution_count": 4,
   "metadata": {
    "colab": {
     "base_uri": "https://localhost:8080/",
     "height": 307
    },
    "id": "zTpqFRLsbf0N",
    "outputId": "ece537ff-9406-43cd-d213-7b7f26b6d43c"
   },
   "outputs": [
    {
     "data": {
      "text/html": [
       "<div>\n",
       "<style scoped>\n",
       "    .dataframe tbody tr th:only-of-type {\n",
       "        vertical-align: middle;\n",
       "    }\n",
       "\n",
       "    .dataframe tbody tr th {\n",
       "        vertical-align: top;\n",
       "    }\n",
       "\n",
       "    .dataframe thead th {\n",
       "        text-align: right;\n",
       "    }\n",
       "</style>\n",
       "<table border=\"1\" class=\"dataframe\">\n",
       "  <thead>\n",
       "    <tr style=\"text-align: right;\">\n",
       "      <th></th>\n",
       "      <th>MSSubClass</th>\n",
       "      <th>LotFrontage</th>\n",
       "      <th>LotArea</th>\n",
       "      <th>OverallQual</th>\n",
       "      <th>OverallCond</th>\n",
       "      <th>YearBuilt</th>\n",
       "      <th>YearRemodAdd</th>\n",
       "      <th>MasVnrArea</th>\n",
       "      <th>BsmtFinSF1</th>\n",
       "      <th>BsmtFinSF2</th>\n",
       "      <th>...</th>\n",
       "      <th>WoodDeckSF</th>\n",
       "      <th>OpenPorchSF</th>\n",
       "      <th>EnclosedPorch</th>\n",
       "      <th>3SsnPorch</th>\n",
       "      <th>ScreenPorch</th>\n",
       "      <th>PoolArea</th>\n",
       "      <th>MiscVal</th>\n",
       "      <th>MoSold</th>\n",
       "      <th>YrSold</th>\n",
       "      <th>SalePrice</th>\n",
       "    </tr>\n",
       "  </thead>\n",
       "  <tbody>\n",
       "    <tr>\n",
       "      <th>count</th>\n",
       "      <td>1460.000000</td>\n",
       "      <td>1201.000000</td>\n",
       "      <td>1460.000000</td>\n",
       "      <td>1460.000000</td>\n",
       "      <td>1460.000000</td>\n",
       "      <td>1460.000000</td>\n",
       "      <td>1460.000000</td>\n",
       "      <td>1452.000000</td>\n",
       "      <td>1460.000000</td>\n",
       "      <td>1460.000000</td>\n",
       "      <td>...</td>\n",
       "      <td>1460.000000</td>\n",
       "      <td>1460.000000</td>\n",
       "      <td>1460.000000</td>\n",
       "      <td>1460.000000</td>\n",
       "      <td>1460.000000</td>\n",
       "      <td>1460.000000</td>\n",
       "      <td>1460.000000</td>\n",
       "      <td>1460.000000</td>\n",
       "      <td>1460.000000</td>\n",
       "      <td>1460.000000</td>\n",
       "    </tr>\n",
       "    <tr>\n",
       "      <th>mean</th>\n",
       "      <td>56.897260</td>\n",
       "      <td>70.049958</td>\n",
       "      <td>10516.828082</td>\n",
       "      <td>6.099315</td>\n",
       "      <td>5.575342</td>\n",
       "      <td>1971.267808</td>\n",
       "      <td>1984.865753</td>\n",
       "      <td>103.685262</td>\n",
       "      <td>443.639726</td>\n",
       "      <td>46.549315</td>\n",
       "      <td>...</td>\n",
       "      <td>94.244521</td>\n",
       "      <td>46.660274</td>\n",
       "      <td>21.954110</td>\n",
       "      <td>3.409589</td>\n",
       "      <td>15.060959</td>\n",
       "      <td>2.758904</td>\n",
       "      <td>43.489041</td>\n",
       "      <td>6.321918</td>\n",
       "      <td>2007.815753</td>\n",
       "      <td>180921.195890</td>\n",
       "    </tr>\n",
       "    <tr>\n",
       "      <th>std</th>\n",
       "      <td>42.300571</td>\n",
       "      <td>24.284752</td>\n",
       "      <td>9981.264932</td>\n",
       "      <td>1.382997</td>\n",
       "      <td>1.112799</td>\n",
       "      <td>30.202904</td>\n",
       "      <td>20.645407</td>\n",
       "      <td>181.066207</td>\n",
       "      <td>456.098091</td>\n",
       "      <td>161.319273</td>\n",
       "      <td>...</td>\n",
       "      <td>125.338794</td>\n",
       "      <td>66.256028</td>\n",
       "      <td>61.119149</td>\n",
       "      <td>29.317331</td>\n",
       "      <td>55.757415</td>\n",
       "      <td>40.177307</td>\n",
       "      <td>496.123024</td>\n",
       "      <td>2.703626</td>\n",
       "      <td>1.328095</td>\n",
       "      <td>79442.502883</td>\n",
       "    </tr>\n",
       "    <tr>\n",
       "      <th>min</th>\n",
       "      <td>20.000000</td>\n",
       "      <td>21.000000</td>\n",
       "      <td>1300.000000</td>\n",
       "      <td>1.000000</td>\n",
       "      <td>1.000000</td>\n",
       "      <td>1872.000000</td>\n",
       "      <td>1950.000000</td>\n",
       "      <td>0.000000</td>\n",
       "      <td>0.000000</td>\n",
       "      <td>0.000000</td>\n",
       "      <td>...</td>\n",
       "      <td>0.000000</td>\n",
       "      <td>0.000000</td>\n",
       "      <td>0.000000</td>\n",
       "      <td>0.000000</td>\n",
       "      <td>0.000000</td>\n",
       "      <td>0.000000</td>\n",
       "      <td>0.000000</td>\n",
       "      <td>1.000000</td>\n",
       "      <td>2006.000000</td>\n",
       "      <td>34900.000000</td>\n",
       "    </tr>\n",
       "    <tr>\n",
       "      <th>25%</th>\n",
       "      <td>20.000000</td>\n",
       "      <td>59.000000</td>\n",
       "      <td>7553.500000</td>\n",
       "      <td>5.000000</td>\n",
       "      <td>5.000000</td>\n",
       "      <td>1954.000000</td>\n",
       "      <td>1967.000000</td>\n",
       "      <td>0.000000</td>\n",
       "      <td>0.000000</td>\n",
       "      <td>0.000000</td>\n",
       "      <td>...</td>\n",
       "      <td>0.000000</td>\n",
       "      <td>0.000000</td>\n",
       "      <td>0.000000</td>\n",
       "      <td>0.000000</td>\n",
       "      <td>0.000000</td>\n",
       "      <td>0.000000</td>\n",
       "      <td>0.000000</td>\n",
       "      <td>5.000000</td>\n",
       "      <td>2007.000000</td>\n",
       "      <td>129975.000000</td>\n",
       "    </tr>\n",
       "    <tr>\n",
       "      <th>50%</th>\n",
       "      <td>50.000000</td>\n",
       "      <td>69.000000</td>\n",
       "      <td>9478.500000</td>\n",
       "      <td>6.000000</td>\n",
       "      <td>5.000000</td>\n",
       "      <td>1973.000000</td>\n",
       "      <td>1994.000000</td>\n",
       "      <td>0.000000</td>\n",
       "      <td>383.500000</td>\n",
       "      <td>0.000000</td>\n",
       "      <td>...</td>\n",
       "      <td>0.000000</td>\n",
       "      <td>25.000000</td>\n",
       "      <td>0.000000</td>\n",
       "      <td>0.000000</td>\n",
       "      <td>0.000000</td>\n",
       "      <td>0.000000</td>\n",
       "      <td>0.000000</td>\n",
       "      <td>6.000000</td>\n",
       "      <td>2008.000000</td>\n",
       "      <td>163000.000000</td>\n",
       "    </tr>\n",
       "    <tr>\n",
       "      <th>75%</th>\n",
       "      <td>70.000000</td>\n",
       "      <td>80.000000</td>\n",
       "      <td>11601.500000</td>\n",
       "      <td>7.000000</td>\n",
       "      <td>6.000000</td>\n",
       "      <td>2000.000000</td>\n",
       "      <td>2004.000000</td>\n",
       "      <td>166.000000</td>\n",
       "      <td>712.250000</td>\n",
       "      <td>0.000000</td>\n",
       "      <td>...</td>\n",
       "      <td>168.000000</td>\n",
       "      <td>68.000000</td>\n",
       "      <td>0.000000</td>\n",
       "      <td>0.000000</td>\n",
       "      <td>0.000000</td>\n",
       "      <td>0.000000</td>\n",
       "      <td>0.000000</td>\n",
       "      <td>8.000000</td>\n",
       "      <td>2009.000000</td>\n",
       "      <td>214000.000000</td>\n",
       "    </tr>\n",
       "    <tr>\n",
       "      <th>max</th>\n",
       "      <td>190.000000</td>\n",
       "      <td>313.000000</td>\n",
       "      <td>215245.000000</td>\n",
       "      <td>10.000000</td>\n",
       "      <td>9.000000</td>\n",
       "      <td>2010.000000</td>\n",
       "      <td>2010.000000</td>\n",
       "      <td>1600.000000</td>\n",
       "      <td>5644.000000</td>\n",
       "      <td>1474.000000</td>\n",
       "      <td>...</td>\n",
       "      <td>857.000000</td>\n",
       "      <td>547.000000</td>\n",
       "      <td>552.000000</td>\n",
       "      <td>508.000000</td>\n",
       "      <td>480.000000</td>\n",
       "      <td>738.000000</td>\n",
       "      <td>15500.000000</td>\n",
       "      <td>12.000000</td>\n",
       "      <td>2010.000000</td>\n",
       "      <td>755000.000000</td>\n",
       "    </tr>\n",
       "  </tbody>\n",
       "</table>\n",
       "<p>8 rows × 37 columns</p>\n",
       "</div>"
      ],
      "text/plain": [
       "        MSSubClass  LotFrontage        LotArea  OverallQual  OverallCond  \\\n",
       "count  1460.000000  1201.000000    1460.000000  1460.000000  1460.000000   \n",
       "mean     56.897260    70.049958   10516.828082     6.099315     5.575342   \n",
       "std      42.300571    24.284752    9981.264932     1.382997     1.112799   \n",
       "min      20.000000    21.000000    1300.000000     1.000000     1.000000   \n",
       "25%      20.000000    59.000000    7553.500000     5.000000     5.000000   \n",
       "50%      50.000000    69.000000    9478.500000     6.000000     5.000000   \n",
       "75%      70.000000    80.000000   11601.500000     7.000000     6.000000   \n",
       "max     190.000000   313.000000  215245.000000    10.000000     9.000000   \n",
       "\n",
       "         YearBuilt  YearRemodAdd   MasVnrArea   BsmtFinSF1   BsmtFinSF2  ...  \\\n",
       "count  1460.000000   1460.000000  1452.000000  1460.000000  1460.000000  ...   \n",
       "mean   1971.267808   1984.865753   103.685262   443.639726    46.549315  ...   \n",
       "std      30.202904     20.645407   181.066207   456.098091   161.319273  ...   \n",
       "min    1872.000000   1950.000000     0.000000     0.000000     0.000000  ...   \n",
       "25%    1954.000000   1967.000000     0.000000     0.000000     0.000000  ...   \n",
       "50%    1973.000000   1994.000000     0.000000   383.500000     0.000000  ...   \n",
       "75%    2000.000000   2004.000000   166.000000   712.250000     0.000000  ...   \n",
       "max    2010.000000   2010.000000  1600.000000  5644.000000  1474.000000  ...   \n",
       "\n",
       "        WoodDeckSF  OpenPorchSF  EnclosedPorch    3SsnPorch  ScreenPorch  \\\n",
       "count  1460.000000  1460.000000    1460.000000  1460.000000  1460.000000   \n",
       "mean     94.244521    46.660274      21.954110     3.409589    15.060959   \n",
       "std     125.338794    66.256028      61.119149    29.317331    55.757415   \n",
       "min       0.000000     0.000000       0.000000     0.000000     0.000000   \n",
       "25%       0.000000     0.000000       0.000000     0.000000     0.000000   \n",
       "50%       0.000000    25.000000       0.000000     0.000000     0.000000   \n",
       "75%     168.000000    68.000000       0.000000     0.000000     0.000000   \n",
       "max     857.000000   547.000000     552.000000   508.000000   480.000000   \n",
       "\n",
       "          PoolArea       MiscVal       MoSold       YrSold      SalePrice  \n",
       "count  1460.000000   1460.000000  1460.000000  1460.000000    1460.000000  \n",
       "mean      2.758904     43.489041     6.321918  2007.815753  180921.195890  \n",
       "std      40.177307    496.123024     2.703626     1.328095   79442.502883  \n",
       "min       0.000000      0.000000     1.000000  2006.000000   34900.000000  \n",
       "25%       0.000000      0.000000     5.000000  2007.000000  129975.000000  \n",
       "50%       0.000000      0.000000     6.000000  2008.000000  163000.000000  \n",
       "75%       0.000000      0.000000     8.000000  2009.000000  214000.000000  \n",
       "max     738.000000  15500.000000    12.000000  2010.000000  755000.000000  \n",
       "\n",
       "[8 rows x 37 columns]"
      ]
     },
     "execution_count": 4,
     "metadata": {},
     "output_type": "execute_result"
    }
   ],
   "source": [
    "df.describe()"
   ]
  },
  {
   "cell_type": "markdown",
   "metadata": {
    "id": "TwTSIJSeQf1D"
   },
   "source": [
    "##### Datos de las variables categóricas\n",
    "\n",
    "Para las variables categóricas se listan a continuación la frecuencia de cada clase."
   ]
  },
  {
   "cell_type": "code",
   "execution_count": 5,
   "metadata": {
    "colab": {
     "base_uri": "https://localhost:8080/"
    },
    "id": "VV0E6q4lQda5",
    "outputId": "45bae8e0-5ac3-4a62-fcc2-4cc903ae0304"
   },
   "outputs": [
    {
     "name": "stdout",
     "output_type": "stream",
     "text": [
      "MSZoning\n",
      "RL         1151\n",
      "RM          218\n",
      "FV           65\n",
      "RH           16\n",
      "C (all)      10\n",
      "Name: MSZoning, dtype: int64\n",
      "\n",
      "Street\n",
      "Pave    1454\n",
      "Grvl       6\n",
      "Name: Street, dtype: int64\n",
      "\n",
      "Alley\n",
      "Grvl    50\n",
      "Pave    41\n",
      "Name: Alley, dtype: int64\n",
      "\n",
      "LotShape\n",
      "Reg    925\n",
      "IR1    484\n",
      "IR2     41\n",
      "IR3     10\n",
      "Name: LotShape, dtype: int64\n",
      "\n",
      "LandContour\n",
      "Lvl    1311\n",
      "Bnk      63\n",
      "HLS      50\n",
      "Low      36\n",
      "Name: LandContour, dtype: int64\n",
      "\n",
      "Utilities\n",
      "AllPub    1459\n",
      "NoSeWa       1\n",
      "Name: Utilities, dtype: int64\n",
      "\n",
      "LotConfig\n",
      "Inside     1052\n",
      "Corner      263\n",
      "CulDSac      94\n",
      "FR2          47\n",
      "FR3           4\n",
      "Name: LotConfig, dtype: int64\n",
      "\n",
      "LandSlope\n",
      "Gtl    1382\n",
      "Mod      65\n",
      "Sev      13\n",
      "Name: LandSlope, dtype: int64\n",
      "\n",
      "Neighborhood\n",
      "NAmes      225\n",
      "CollgCr    150\n",
      "OldTown    113\n",
      "Edwards    100\n",
      "Somerst     86\n",
      "Gilbert     79\n",
      "NridgHt     77\n",
      "Sawyer      74\n",
      "NWAmes      73\n",
      "SawyerW     59\n",
      "BrkSide     58\n",
      "Crawfor     51\n",
      "Mitchel     49\n",
      "NoRidge     41\n",
      "Timber      38\n",
      "IDOTRR      37\n",
      "ClearCr     28\n",
      "SWISU       25\n",
      "StoneBr     25\n",
      "MeadowV     17\n",
      "Blmngtn     17\n",
      "BrDale      16\n",
      "Veenker     11\n",
      "NPkVill      9\n",
      "Blueste      2\n",
      "Name: Neighborhood, dtype: int64\n",
      "\n",
      "Condition1\n",
      "Norm      1260\n",
      "Feedr       81\n",
      "Artery      48\n",
      "RRAn        26\n",
      "PosN        19\n",
      "RRAe        11\n",
      "PosA         8\n",
      "RRNn         5\n",
      "RRNe         2\n",
      "Name: Condition1, dtype: int64\n",
      "\n",
      "Condition2\n",
      "Norm      1445\n",
      "Feedr        6\n",
      "Artery       2\n",
      "RRNn         2\n",
      "PosN         2\n",
      "RRAe         1\n",
      "RRAn         1\n",
      "PosA         1\n",
      "Name: Condition2, dtype: int64\n",
      "\n",
      "BldgType\n",
      "1Fam      1220\n",
      "TwnhsE     114\n",
      "Duplex      52\n",
      "Twnhs       43\n",
      "2fmCon      31\n",
      "Name: BldgType, dtype: int64\n",
      "\n",
      "HouseStyle\n",
      "1Story    726\n",
      "2Story    445\n",
      "1.5Fin    154\n",
      "SLvl       65\n",
      "SFoyer     37\n",
      "1.5Unf     14\n",
      "2.5Unf     11\n",
      "2.5Fin      8\n",
      "Name: HouseStyle, dtype: int64\n",
      "\n",
      "RoofStyle\n",
      "Gable      1141\n",
      "Hip         286\n",
      "Flat         13\n",
      "Gambrel      11\n",
      "Mansard       7\n",
      "Shed          2\n",
      "Name: RoofStyle, dtype: int64\n",
      "\n",
      "RoofMatl\n",
      "CompShg    1434\n",
      "Tar&Grv      11\n",
      "WdShngl       6\n",
      "WdShake       5\n",
      "ClyTile       1\n",
      "Roll          1\n",
      "Metal         1\n",
      "Membran       1\n",
      "Name: RoofMatl, dtype: int64\n",
      "\n",
      "Exterior1st\n",
      "VinylSd    515\n",
      "HdBoard    222\n",
      "MetalSd    220\n",
      "Wd Sdng    206\n",
      "Plywood    108\n",
      "CemntBd     61\n",
      "BrkFace     50\n",
      "WdShing     26\n",
      "Stucco      25\n",
      "AsbShng     20\n",
      "Stone        2\n",
      "BrkComm      2\n",
      "AsphShn      1\n",
      "CBlock       1\n",
      "ImStucc      1\n",
      "Name: Exterior1st, dtype: int64\n",
      "\n",
      "Exterior2nd\n",
      "VinylSd    504\n",
      "MetalSd    214\n",
      "HdBoard    207\n",
      "Wd Sdng    197\n",
      "Plywood    142\n",
      "CmentBd     60\n",
      "Wd Shng     38\n",
      "Stucco      26\n",
      "BrkFace     25\n",
      "AsbShng     20\n",
      "ImStucc     10\n",
      "Brk Cmn      7\n",
      "Stone        5\n",
      "AsphShn      3\n",
      "CBlock       1\n",
      "Other        1\n",
      "Name: Exterior2nd, dtype: int64\n",
      "\n",
      "MasVnrType\n",
      "None       864\n",
      "BrkFace    445\n",
      "Stone      128\n",
      "BrkCmn      15\n",
      "Name: MasVnrType, dtype: int64\n",
      "\n",
      "ExterQual\n",
      "TA    906\n",
      "Gd    488\n",
      "Ex     52\n",
      "Fa     14\n",
      "Name: ExterQual, dtype: int64\n",
      "\n",
      "ExterCond\n",
      "TA    1282\n",
      "Gd     146\n",
      "Fa      28\n",
      "Ex       3\n",
      "Po       1\n",
      "Name: ExterCond, dtype: int64\n",
      "\n",
      "Foundation\n",
      "PConc     647\n",
      "CBlock    634\n",
      "BrkTil    146\n",
      "Slab       24\n",
      "Stone       6\n",
      "Wood        3\n",
      "Name: Foundation, dtype: int64\n",
      "\n",
      "BsmtQual\n",
      "TA    649\n",
      "Gd    618\n",
      "Ex    121\n",
      "Fa     35\n",
      "Name: BsmtQual, dtype: int64\n",
      "\n",
      "BsmtCond\n",
      "TA    1311\n",
      "Gd      65\n",
      "Fa      45\n",
      "Po       2\n",
      "Name: BsmtCond, dtype: int64\n",
      "\n",
      "BsmtExposure\n",
      "No    953\n",
      "Av    221\n",
      "Gd    134\n",
      "Mn    114\n",
      "Name: BsmtExposure, dtype: int64\n",
      "\n",
      "BsmtFinType1\n",
      "Unf    430\n",
      "GLQ    418\n",
      "ALQ    220\n",
      "BLQ    148\n",
      "Rec    133\n",
      "LwQ     74\n",
      "Name: BsmtFinType1, dtype: int64\n",
      "\n",
      "BsmtFinType2\n",
      "Unf    1256\n",
      "Rec      54\n",
      "LwQ      46\n",
      "BLQ      33\n",
      "ALQ      19\n",
      "GLQ      14\n",
      "Name: BsmtFinType2, dtype: int64\n",
      "\n",
      "Heating\n",
      "GasA     1428\n",
      "GasW       18\n",
      "Grav        7\n",
      "Wall        4\n",
      "OthW        2\n",
      "Floor       1\n",
      "Name: Heating, dtype: int64\n",
      "\n",
      "HeatingQC\n",
      "Ex    741\n",
      "TA    428\n",
      "Gd    241\n",
      "Fa     49\n",
      "Po      1\n",
      "Name: HeatingQC, dtype: int64\n",
      "\n",
      "CentralAir\n",
      "Y    1365\n",
      "N      95\n",
      "Name: CentralAir, dtype: int64\n",
      "\n",
      "Electrical\n",
      "SBrkr    1334\n",
      "FuseA      94\n",
      "FuseF      27\n",
      "FuseP       3\n",
      "Mix         1\n",
      "Name: Electrical, dtype: int64\n",
      "\n",
      "KitchenQual\n",
      "TA    735\n",
      "Gd    586\n",
      "Ex    100\n",
      "Fa     39\n",
      "Name: KitchenQual, dtype: int64\n",
      "\n",
      "Functional\n",
      "Typ     1360\n",
      "Min2      34\n",
      "Min1      31\n",
      "Mod       15\n",
      "Maj1      14\n",
      "Maj2       5\n",
      "Sev        1\n",
      "Name: Functional, dtype: int64\n",
      "\n",
      "FireplaceQu\n",
      "Gd    380\n",
      "TA    313\n",
      "Fa     33\n",
      "Ex     24\n",
      "Po     20\n",
      "Name: FireplaceQu, dtype: int64\n",
      "\n",
      "GarageType\n",
      "Attchd     870\n",
      "Detchd     387\n",
      "BuiltIn     88\n",
      "Basment     19\n",
      "CarPort      9\n",
      "2Types       6\n",
      "Name: GarageType, dtype: int64\n",
      "\n",
      "GarageFinish\n",
      "Unf    605\n",
      "RFn    422\n",
      "Fin    352\n",
      "Name: GarageFinish, dtype: int64\n",
      "\n",
      "GarageQual\n",
      "TA    1311\n",
      "Fa      48\n",
      "Gd      14\n",
      "Po       3\n",
      "Ex       3\n",
      "Name: GarageQual, dtype: int64\n",
      "\n",
      "GarageCond\n",
      "TA    1326\n",
      "Fa      35\n",
      "Gd       9\n",
      "Po       7\n",
      "Ex       2\n",
      "Name: GarageCond, dtype: int64\n",
      "\n",
      "PavedDrive\n",
      "Y    1340\n",
      "N      90\n",
      "P      30\n",
      "Name: PavedDrive, dtype: int64\n",
      "\n",
      "PoolQC\n",
      "Gd    3\n",
      "Fa    2\n",
      "Ex    2\n",
      "Name: PoolQC, dtype: int64\n",
      "\n",
      "Fence\n",
      "MnPrv    157\n",
      "GdPrv     59\n",
      "GdWo      54\n",
      "MnWw      11\n",
      "Name: Fence, dtype: int64\n",
      "\n",
      "MiscFeature\n",
      "Shed    49\n",
      "Gar2     2\n",
      "Othr     2\n",
      "TenC     1\n",
      "Name: MiscFeature, dtype: int64\n",
      "\n",
      "SaleType\n",
      "WD       1267\n",
      "New       122\n",
      "COD        43\n",
      "ConLD       9\n",
      "ConLI       5\n",
      "ConLw       5\n",
      "CWD         4\n",
      "Oth         3\n",
      "Con         2\n",
      "Name: SaleType, dtype: int64\n",
      "\n",
      "SaleCondition\n",
      "Normal     1198\n",
      "Partial     125\n",
      "Abnorml     101\n",
      "Family       20\n",
      "Alloca       12\n",
      "AdjLand       4\n",
      "Name: SaleCondition, dtype: int64\n",
      "\n"
     ]
    }
   ],
   "source": [
    "for categoria in categoricos:\n",
    "    print(categoria)\n",
    "    print(pd.value_counts(df[categoria]))\n",
    "    print()"
   ]
  },
  {
   "cell_type": "markdown",
   "metadata": {
    "id": "R8DiFz38Qzy3"
   },
   "source": [
    "##### Correlaciones de los datos\n",
    "\n",
    "Primero de todo encontramos la matriz de correlación con todas las variables."
   ]
  },
  {
   "cell_type": "code",
   "execution_count": 6,
   "metadata": {
    "colab": {
     "base_uri": "https://localhost:8080/",
     "height": 1000
    },
    "id": "Ye04GkffQzW5",
    "outputId": "608fdeb6-b451-4f70-aea0-cf6ab5d7038a"
   },
   "outputs": [
    {
     "data": {
      "text/html": [
       "<div>\n",
       "<style scoped>\n",
       "    .dataframe tbody tr th:only-of-type {\n",
       "        vertical-align: middle;\n",
       "    }\n",
       "\n",
       "    .dataframe tbody tr th {\n",
       "        vertical-align: top;\n",
       "    }\n",
       "\n",
       "    .dataframe thead th {\n",
       "        text-align: right;\n",
       "    }\n",
       "</style>\n",
       "<table border=\"1\" class=\"dataframe\">\n",
       "  <thead>\n",
       "    <tr style=\"text-align: right;\">\n",
       "      <th></th>\n",
       "      <th>MSSubClass</th>\n",
       "      <th>LotFrontage</th>\n",
       "      <th>LotArea</th>\n",
       "      <th>OverallQual</th>\n",
       "      <th>OverallCond</th>\n",
       "      <th>YearBuilt</th>\n",
       "      <th>YearRemodAdd</th>\n",
       "      <th>MasVnrArea</th>\n",
       "      <th>BsmtFinSF1</th>\n",
       "      <th>BsmtFinSF2</th>\n",
       "      <th>...</th>\n",
       "      <th>WoodDeckSF</th>\n",
       "      <th>OpenPorchSF</th>\n",
       "      <th>EnclosedPorch</th>\n",
       "      <th>3SsnPorch</th>\n",
       "      <th>ScreenPorch</th>\n",
       "      <th>PoolArea</th>\n",
       "      <th>MiscVal</th>\n",
       "      <th>MoSold</th>\n",
       "      <th>YrSold</th>\n",
       "      <th>SalePrice</th>\n",
       "    </tr>\n",
       "  </thead>\n",
       "  <tbody>\n",
       "    <tr>\n",
       "      <th>MSSubClass</th>\n",
       "      <td>1.000000</td>\n",
       "      <td>-0.386347</td>\n",
       "      <td>-0.139781</td>\n",
       "      <td>0.032628</td>\n",
       "      <td>-0.059316</td>\n",
       "      <td>0.027850</td>\n",
       "      <td>0.040581</td>\n",
       "      <td>0.022936</td>\n",
       "      <td>-0.069836</td>\n",
       "      <td>-0.065649</td>\n",
       "      <td>...</td>\n",
       "      <td>-0.012579</td>\n",
       "      <td>-0.006100</td>\n",
       "      <td>-0.012037</td>\n",
       "      <td>-0.043825</td>\n",
       "      <td>-0.026030</td>\n",
       "      <td>0.008283</td>\n",
       "      <td>-0.007683</td>\n",
       "      <td>-0.013585</td>\n",
       "      <td>-0.021407</td>\n",
       "      <td>-0.084284</td>\n",
       "    </tr>\n",
       "    <tr>\n",
       "      <th>LotFrontage</th>\n",
       "      <td>-0.386347</td>\n",
       "      <td>1.000000</td>\n",
       "      <td>0.426095</td>\n",
       "      <td>0.251646</td>\n",
       "      <td>-0.059213</td>\n",
       "      <td>0.123349</td>\n",
       "      <td>0.088866</td>\n",
       "      <td>0.193458</td>\n",
       "      <td>0.233633</td>\n",
       "      <td>0.049900</td>\n",
       "      <td>...</td>\n",
       "      <td>0.088521</td>\n",
       "      <td>0.151972</td>\n",
       "      <td>0.010700</td>\n",
       "      <td>0.070029</td>\n",
       "      <td>0.041383</td>\n",
       "      <td>0.206167</td>\n",
       "      <td>0.003368</td>\n",
       "      <td>0.011200</td>\n",
       "      <td>0.007450</td>\n",
       "      <td>0.351799</td>\n",
       "    </tr>\n",
       "    <tr>\n",
       "      <th>LotArea</th>\n",
       "      <td>-0.139781</td>\n",
       "      <td>0.426095</td>\n",
       "      <td>1.000000</td>\n",
       "      <td>0.105806</td>\n",
       "      <td>-0.005636</td>\n",
       "      <td>0.014228</td>\n",
       "      <td>0.013788</td>\n",
       "      <td>0.104160</td>\n",
       "      <td>0.214103</td>\n",
       "      <td>0.111170</td>\n",
       "      <td>...</td>\n",
       "      <td>0.171698</td>\n",
       "      <td>0.084774</td>\n",
       "      <td>-0.018340</td>\n",
       "      <td>0.020423</td>\n",
       "      <td>0.043160</td>\n",
       "      <td>0.077672</td>\n",
       "      <td>0.038068</td>\n",
       "      <td>0.001205</td>\n",
       "      <td>-0.014261</td>\n",
       "      <td>0.263843</td>\n",
       "    </tr>\n",
       "    <tr>\n",
       "      <th>OverallQual</th>\n",
       "      <td>0.032628</td>\n",
       "      <td>0.251646</td>\n",
       "      <td>0.105806</td>\n",
       "      <td>1.000000</td>\n",
       "      <td>-0.091932</td>\n",
       "      <td>0.572323</td>\n",
       "      <td>0.550684</td>\n",
       "      <td>0.411876</td>\n",
       "      <td>0.239666</td>\n",
       "      <td>-0.059119</td>\n",
       "      <td>...</td>\n",
       "      <td>0.238923</td>\n",
       "      <td>0.308819</td>\n",
       "      <td>-0.113937</td>\n",
       "      <td>0.030371</td>\n",
       "      <td>0.064886</td>\n",
       "      <td>0.065166</td>\n",
       "      <td>-0.031406</td>\n",
       "      <td>0.070815</td>\n",
       "      <td>-0.027347</td>\n",
       "      <td>0.790982</td>\n",
       "    </tr>\n",
       "    <tr>\n",
       "      <th>OverallCond</th>\n",
       "      <td>-0.059316</td>\n",
       "      <td>-0.059213</td>\n",
       "      <td>-0.005636</td>\n",
       "      <td>-0.091932</td>\n",
       "      <td>1.000000</td>\n",
       "      <td>-0.375983</td>\n",
       "      <td>0.073741</td>\n",
       "      <td>-0.128101</td>\n",
       "      <td>-0.046231</td>\n",
       "      <td>0.040229</td>\n",
       "      <td>...</td>\n",
       "      <td>-0.003334</td>\n",
       "      <td>-0.032589</td>\n",
       "      <td>0.070356</td>\n",
       "      <td>0.025504</td>\n",
       "      <td>0.054811</td>\n",
       "      <td>-0.001985</td>\n",
       "      <td>0.068777</td>\n",
       "      <td>-0.003511</td>\n",
       "      <td>0.043950</td>\n",
       "      <td>-0.077856</td>\n",
       "    </tr>\n",
       "    <tr>\n",
       "      <th>YearBuilt</th>\n",
       "      <td>0.027850</td>\n",
       "      <td>0.123349</td>\n",
       "      <td>0.014228</td>\n",
       "      <td>0.572323</td>\n",
       "      <td>-0.375983</td>\n",
       "      <td>1.000000</td>\n",
       "      <td>0.592855</td>\n",
       "      <td>0.315707</td>\n",
       "      <td>0.249503</td>\n",
       "      <td>-0.049107</td>\n",
       "      <td>...</td>\n",
       "      <td>0.224880</td>\n",
       "      <td>0.188686</td>\n",
       "      <td>-0.387268</td>\n",
       "      <td>0.031355</td>\n",
       "      <td>-0.050364</td>\n",
       "      <td>0.004950</td>\n",
       "      <td>-0.034383</td>\n",
       "      <td>0.012398</td>\n",
       "      <td>-0.013618</td>\n",
       "      <td>0.522897</td>\n",
       "    </tr>\n",
       "    <tr>\n",
       "      <th>YearRemodAdd</th>\n",
       "      <td>0.040581</td>\n",
       "      <td>0.088866</td>\n",
       "      <td>0.013788</td>\n",
       "      <td>0.550684</td>\n",
       "      <td>0.073741</td>\n",
       "      <td>0.592855</td>\n",
       "      <td>1.000000</td>\n",
       "      <td>0.179618</td>\n",
       "      <td>0.128451</td>\n",
       "      <td>-0.067759</td>\n",
       "      <td>...</td>\n",
       "      <td>0.205726</td>\n",
       "      <td>0.226298</td>\n",
       "      <td>-0.193919</td>\n",
       "      <td>0.045286</td>\n",
       "      <td>-0.038740</td>\n",
       "      <td>0.005829</td>\n",
       "      <td>-0.010286</td>\n",
       "      <td>0.021490</td>\n",
       "      <td>0.035743</td>\n",
       "      <td>0.507101</td>\n",
       "    </tr>\n",
       "    <tr>\n",
       "      <th>MasVnrArea</th>\n",
       "      <td>0.022936</td>\n",
       "      <td>0.193458</td>\n",
       "      <td>0.104160</td>\n",
       "      <td>0.411876</td>\n",
       "      <td>-0.128101</td>\n",
       "      <td>0.315707</td>\n",
       "      <td>0.179618</td>\n",
       "      <td>1.000000</td>\n",
       "      <td>0.264736</td>\n",
       "      <td>-0.072319</td>\n",
       "      <td>...</td>\n",
       "      <td>0.159718</td>\n",
       "      <td>0.125703</td>\n",
       "      <td>-0.110204</td>\n",
       "      <td>0.018796</td>\n",
       "      <td>0.061466</td>\n",
       "      <td>0.011723</td>\n",
       "      <td>-0.029815</td>\n",
       "      <td>-0.005965</td>\n",
       "      <td>-0.008201</td>\n",
       "      <td>0.477493</td>\n",
       "    </tr>\n",
       "    <tr>\n",
       "      <th>BsmtFinSF1</th>\n",
       "      <td>-0.069836</td>\n",
       "      <td>0.233633</td>\n",
       "      <td>0.214103</td>\n",
       "      <td>0.239666</td>\n",
       "      <td>-0.046231</td>\n",
       "      <td>0.249503</td>\n",
       "      <td>0.128451</td>\n",
       "      <td>0.264736</td>\n",
       "      <td>1.000000</td>\n",
       "      <td>-0.050117</td>\n",
       "      <td>...</td>\n",
       "      <td>0.204306</td>\n",
       "      <td>0.111761</td>\n",
       "      <td>-0.102303</td>\n",
       "      <td>0.026451</td>\n",
       "      <td>0.062021</td>\n",
       "      <td>0.140491</td>\n",
       "      <td>0.003571</td>\n",
       "      <td>-0.015727</td>\n",
       "      <td>0.014359</td>\n",
       "      <td>0.386420</td>\n",
       "    </tr>\n",
       "    <tr>\n",
       "      <th>BsmtFinSF2</th>\n",
       "      <td>-0.065649</td>\n",
       "      <td>0.049900</td>\n",
       "      <td>0.111170</td>\n",
       "      <td>-0.059119</td>\n",
       "      <td>0.040229</td>\n",
       "      <td>-0.049107</td>\n",
       "      <td>-0.067759</td>\n",
       "      <td>-0.072319</td>\n",
       "      <td>-0.050117</td>\n",
       "      <td>1.000000</td>\n",
       "      <td>...</td>\n",
       "      <td>0.067898</td>\n",
       "      <td>0.003093</td>\n",
       "      <td>0.036543</td>\n",
       "      <td>-0.029993</td>\n",
       "      <td>0.088871</td>\n",
       "      <td>0.041709</td>\n",
       "      <td>0.004940</td>\n",
       "      <td>-0.015211</td>\n",
       "      <td>0.031706</td>\n",
       "      <td>-0.011378</td>\n",
       "    </tr>\n",
       "    <tr>\n",
       "      <th>BsmtUnfSF</th>\n",
       "      <td>-0.140759</td>\n",
       "      <td>0.132644</td>\n",
       "      <td>-0.002618</td>\n",
       "      <td>0.308159</td>\n",
       "      <td>-0.136841</td>\n",
       "      <td>0.149040</td>\n",
       "      <td>0.181133</td>\n",
       "      <td>0.114442</td>\n",
       "      <td>-0.495251</td>\n",
       "      <td>-0.209294</td>\n",
       "      <td>...</td>\n",
       "      <td>-0.005316</td>\n",
       "      <td>0.129005</td>\n",
       "      <td>-0.002538</td>\n",
       "      <td>0.020764</td>\n",
       "      <td>-0.012579</td>\n",
       "      <td>-0.035092</td>\n",
       "      <td>-0.023837</td>\n",
       "      <td>0.034888</td>\n",
       "      <td>-0.041258</td>\n",
       "      <td>0.214479</td>\n",
       "    </tr>\n",
       "    <tr>\n",
       "      <th>TotalBsmtSF</th>\n",
       "      <td>-0.238518</td>\n",
       "      <td>0.392075</td>\n",
       "      <td>0.260833</td>\n",
       "      <td>0.537808</td>\n",
       "      <td>-0.171098</td>\n",
       "      <td>0.391452</td>\n",
       "      <td>0.291066</td>\n",
       "      <td>0.363936</td>\n",
       "      <td>0.522396</td>\n",
       "      <td>0.104810</td>\n",
       "      <td>...</td>\n",
       "      <td>0.232019</td>\n",
       "      <td>0.247264</td>\n",
       "      <td>-0.095478</td>\n",
       "      <td>0.037384</td>\n",
       "      <td>0.084489</td>\n",
       "      <td>0.126053</td>\n",
       "      <td>-0.018479</td>\n",
       "      <td>0.013196</td>\n",
       "      <td>-0.014969</td>\n",
       "      <td>0.613581</td>\n",
       "    </tr>\n",
       "    <tr>\n",
       "      <th>1stFlrSF</th>\n",
       "      <td>-0.251758</td>\n",
       "      <td>0.457181</td>\n",
       "      <td>0.299475</td>\n",
       "      <td>0.476224</td>\n",
       "      <td>-0.144203</td>\n",
       "      <td>0.281986</td>\n",
       "      <td>0.240379</td>\n",
       "      <td>0.344501</td>\n",
       "      <td>0.445863</td>\n",
       "      <td>0.097117</td>\n",
       "      <td>...</td>\n",
       "      <td>0.235459</td>\n",
       "      <td>0.211671</td>\n",
       "      <td>-0.065292</td>\n",
       "      <td>0.056104</td>\n",
       "      <td>0.088758</td>\n",
       "      <td>0.131525</td>\n",
       "      <td>-0.021096</td>\n",
       "      <td>0.031372</td>\n",
       "      <td>-0.013604</td>\n",
       "      <td>0.605852</td>\n",
       "    </tr>\n",
       "    <tr>\n",
       "      <th>2ndFlrSF</th>\n",
       "      <td>0.307886</td>\n",
       "      <td>0.080177</td>\n",
       "      <td>0.050986</td>\n",
       "      <td>0.295493</td>\n",
       "      <td>0.028942</td>\n",
       "      <td>0.010308</td>\n",
       "      <td>0.140024</td>\n",
       "      <td>0.174561</td>\n",
       "      <td>-0.137079</td>\n",
       "      <td>-0.099260</td>\n",
       "      <td>...</td>\n",
       "      <td>0.092165</td>\n",
       "      <td>0.208026</td>\n",
       "      <td>0.061989</td>\n",
       "      <td>-0.024358</td>\n",
       "      <td>0.040606</td>\n",
       "      <td>0.081487</td>\n",
       "      <td>0.016197</td>\n",
       "      <td>0.035164</td>\n",
       "      <td>-0.028700</td>\n",
       "      <td>0.319334</td>\n",
       "    </tr>\n",
       "    <tr>\n",
       "      <th>LowQualFinSF</th>\n",
       "      <td>0.046474</td>\n",
       "      <td>0.038469</td>\n",
       "      <td>0.004779</td>\n",
       "      <td>-0.030429</td>\n",
       "      <td>0.025494</td>\n",
       "      <td>-0.183784</td>\n",
       "      <td>-0.062419</td>\n",
       "      <td>-0.069071</td>\n",
       "      <td>-0.064503</td>\n",
       "      <td>0.014807</td>\n",
       "      <td>...</td>\n",
       "      <td>-0.025444</td>\n",
       "      <td>0.018251</td>\n",
       "      <td>0.061081</td>\n",
       "      <td>-0.004296</td>\n",
       "      <td>0.026799</td>\n",
       "      <td>0.062157</td>\n",
       "      <td>-0.003793</td>\n",
       "      <td>-0.022174</td>\n",
       "      <td>-0.028921</td>\n",
       "      <td>-0.025606</td>\n",
       "    </tr>\n",
       "    <tr>\n",
       "      <th>GrLivArea</th>\n",
       "      <td>0.074853</td>\n",
       "      <td>0.402797</td>\n",
       "      <td>0.263116</td>\n",
       "      <td>0.593007</td>\n",
       "      <td>-0.079686</td>\n",
       "      <td>0.199010</td>\n",
       "      <td>0.287389</td>\n",
       "      <td>0.390857</td>\n",
       "      <td>0.208171</td>\n",
       "      <td>-0.009640</td>\n",
       "      <td>...</td>\n",
       "      <td>0.247433</td>\n",
       "      <td>0.330224</td>\n",
       "      <td>0.009113</td>\n",
       "      <td>0.020643</td>\n",
       "      <td>0.101510</td>\n",
       "      <td>0.170205</td>\n",
       "      <td>-0.002416</td>\n",
       "      <td>0.050240</td>\n",
       "      <td>-0.036526</td>\n",
       "      <td>0.708624</td>\n",
       "    </tr>\n",
       "    <tr>\n",
       "      <th>BsmtFullBath</th>\n",
       "      <td>0.003491</td>\n",
       "      <td>0.100949</td>\n",
       "      <td>0.158155</td>\n",
       "      <td>0.111098</td>\n",
       "      <td>-0.054942</td>\n",
       "      <td>0.187599</td>\n",
       "      <td>0.119470</td>\n",
       "      <td>0.085310</td>\n",
       "      <td>0.649212</td>\n",
       "      <td>0.158678</td>\n",
       "      <td>...</td>\n",
       "      <td>0.175315</td>\n",
       "      <td>0.067341</td>\n",
       "      <td>-0.049911</td>\n",
       "      <td>-0.000106</td>\n",
       "      <td>0.023148</td>\n",
       "      <td>0.067616</td>\n",
       "      <td>-0.023047</td>\n",
       "      <td>-0.025361</td>\n",
       "      <td>0.067049</td>\n",
       "      <td>0.227122</td>\n",
       "    </tr>\n",
       "    <tr>\n",
       "      <th>BsmtHalfBath</th>\n",
       "      <td>-0.002333</td>\n",
       "      <td>-0.007234</td>\n",
       "      <td>0.048046</td>\n",
       "      <td>-0.040150</td>\n",
       "      <td>0.117821</td>\n",
       "      <td>-0.038162</td>\n",
       "      <td>-0.012337</td>\n",
       "      <td>0.026673</td>\n",
       "      <td>0.067418</td>\n",
       "      <td>0.070948</td>\n",
       "      <td>...</td>\n",
       "      <td>0.040161</td>\n",
       "      <td>-0.025324</td>\n",
       "      <td>-0.008555</td>\n",
       "      <td>0.035114</td>\n",
       "      <td>0.032121</td>\n",
       "      <td>0.020025</td>\n",
       "      <td>-0.007367</td>\n",
       "      <td>0.032873</td>\n",
       "      <td>-0.046524</td>\n",
       "      <td>-0.016844</td>\n",
       "    </tr>\n",
       "    <tr>\n",
       "      <th>FullBath</th>\n",
       "      <td>0.131608</td>\n",
       "      <td>0.198769</td>\n",
       "      <td>0.126031</td>\n",
       "      <td>0.550600</td>\n",
       "      <td>-0.194149</td>\n",
       "      <td>0.468271</td>\n",
       "      <td>0.439046</td>\n",
       "      <td>0.276833</td>\n",
       "      <td>0.058543</td>\n",
       "      <td>-0.076444</td>\n",
       "      <td>...</td>\n",
       "      <td>0.187703</td>\n",
       "      <td>0.259977</td>\n",
       "      <td>-0.115093</td>\n",
       "      <td>0.035353</td>\n",
       "      <td>-0.008106</td>\n",
       "      <td>0.049604</td>\n",
       "      <td>-0.014290</td>\n",
       "      <td>0.055872</td>\n",
       "      <td>-0.019669</td>\n",
       "      <td>0.560664</td>\n",
       "    </tr>\n",
       "    <tr>\n",
       "      <th>HalfBath</th>\n",
       "      <td>0.177354</td>\n",
       "      <td>0.053532</td>\n",
       "      <td>0.014259</td>\n",
       "      <td>0.273458</td>\n",
       "      <td>-0.060769</td>\n",
       "      <td>0.242656</td>\n",
       "      <td>0.183331</td>\n",
       "      <td>0.201444</td>\n",
       "      <td>0.004262</td>\n",
       "      <td>-0.032148</td>\n",
       "      <td>...</td>\n",
       "      <td>0.108080</td>\n",
       "      <td>0.199740</td>\n",
       "      <td>-0.095317</td>\n",
       "      <td>-0.004972</td>\n",
       "      <td>0.072426</td>\n",
       "      <td>0.022381</td>\n",
       "      <td>0.001290</td>\n",
       "      <td>-0.009050</td>\n",
       "      <td>-0.010269</td>\n",
       "      <td>0.284108</td>\n",
       "    </tr>\n",
       "    <tr>\n",
       "      <th>BedroomAbvGr</th>\n",
       "      <td>-0.023438</td>\n",
       "      <td>0.263170</td>\n",
       "      <td>0.119690</td>\n",
       "      <td>0.101676</td>\n",
       "      <td>0.012980</td>\n",
       "      <td>-0.070651</td>\n",
       "      <td>-0.040581</td>\n",
       "      <td>0.102821</td>\n",
       "      <td>-0.107355</td>\n",
       "      <td>-0.015728</td>\n",
       "      <td>...</td>\n",
       "      <td>0.046854</td>\n",
       "      <td>0.093810</td>\n",
       "      <td>0.041570</td>\n",
       "      <td>-0.024478</td>\n",
       "      <td>0.044300</td>\n",
       "      <td>0.070703</td>\n",
       "      <td>0.007767</td>\n",
       "      <td>0.046544</td>\n",
       "      <td>-0.036014</td>\n",
       "      <td>0.168213</td>\n",
       "    </tr>\n",
       "    <tr>\n",
       "      <th>KitchenAbvGr</th>\n",
       "      <td>0.281721</td>\n",
       "      <td>-0.006069</td>\n",
       "      <td>-0.017784</td>\n",
       "      <td>-0.183882</td>\n",
       "      <td>-0.087001</td>\n",
       "      <td>-0.174800</td>\n",
       "      <td>-0.149598</td>\n",
       "      <td>-0.037610</td>\n",
       "      <td>-0.081007</td>\n",
       "      <td>-0.040751</td>\n",
       "      <td>...</td>\n",
       "      <td>-0.090130</td>\n",
       "      <td>-0.070091</td>\n",
       "      <td>0.037312</td>\n",
       "      <td>-0.024600</td>\n",
       "      <td>-0.051613</td>\n",
       "      <td>-0.014525</td>\n",
       "      <td>0.062341</td>\n",
       "      <td>0.026589</td>\n",
       "      <td>0.031687</td>\n",
       "      <td>-0.135907</td>\n",
       "    </tr>\n",
       "    <tr>\n",
       "      <th>TotRmsAbvGrd</th>\n",
       "      <td>0.040380</td>\n",
       "      <td>0.352096</td>\n",
       "      <td>0.190015</td>\n",
       "      <td>0.427452</td>\n",
       "      <td>-0.057583</td>\n",
       "      <td>0.095589</td>\n",
       "      <td>0.191740</td>\n",
       "      <td>0.280682</td>\n",
       "      <td>0.044316</td>\n",
       "      <td>-0.035227</td>\n",
       "      <td>...</td>\n",
       "      <td>0.165984</td>\n",
       "      <td>0.234192</td>\n",
       "      <td>0.004151</td>\n",
       "      <td>-0.006683</td>\n",
       "      <td>0.059383</td>\n",
       "      <td>0.083757</td>\n",
       "      <td>0.024763</td>\n",
       "      <td>0.036907</td>\n",
       "      <td>-0.034516</td>\n",
       "      <td>0.533723</td>\n",
       "    </tr>\n",
       "    <tr>\n",
       "      <th>Fireplaces</th>\n",
       "      <td>-0.045569</td>\n",
       "      <td>0.266639</td>\n",
       "      <td>0.271364</td>\n",
       "      <td>0.396765</td>\n",
       "      <td>-0.023820</td>\n",
       "      <td>0.147716</td>\n",
       "      <td>0.112581</td>\n",
       "      <td>0.249070</td>\n",
       "      <td>0.260011</td>\n",
       "      <td>0.046921</td>\n",
       "      <td>...</td>\n",
       "      <td>0.200019</td>\n",
       "      <td>0.169405</td>\n",
       "      <td>-0.024822</td>\n",
       "      <td>0.011257</td>\n",
       "      <td>0.184530</td>\n",
       "      <td>0.095074</td>\n",
       "      <td>0.001409</td>\n",
       "      <td>0.046357</td>\n",
       "      <td>-0.024096</td>\n",
       "      <td>0.466929</td>\n",
       "    </tr>\n",
       "    <tr>\n",
       "      <th>GarageYrBlt</th>\n",
       "      <td>0.085072</td>\n",
       "      <td>0.070250</td>\n",
       "      <td>-0.024947</td>\n",
       "      <td>0.547766</td>\n",
       "      <td>-0.324297</td>\n",
       "      <td>0.825667</td>\n",
       "      <td>0.642277</td>\n",
       "      <td>0.252691</td>\n",
       "      <td>0.153484</td>\n",
       "      <td>-0.088011</td>\n",
       "      <td>...</td>\n",
       "      <td>0.224577</td>\n",
       "      <td>0.228425</td>\n",
       "      <td>-0.297003</td>\n",
       "      <td>0.023544</td>\n",
       "      <td>-0.075418</td>\n",
       "      <td>-0.014501</td>\n",
       "      <td>-0.032417</td>\n",
       "      <td>0.005337</td>\n",
       "      <td>-0.001014</td>\n",
       "      <td>0.486362</td>\n",
       "    </tr>\n",
       "    <tr>\n",
       "      <th>GarageCars</th>\n",
       "      <td>-0.040110</td>\n",
       "      <td>0.285691</td>\n",
       "      <td>0.154871</td>\n",
       "      <td>0.600671</td>\n",
       "      <td>-0.185758</td>\n",
       "      <td>0.537850</td>\n",
       "      <td>0.420622</td>\n",
       "      <td>0.364204</td>\n",
       "      <td>0.224054</td>\n",
       "      <td>-0.038264</td>\n",
       "      <td>...</td>\n",
       "      <td>0.226342</td>\n",
       "      <td>0.213569</td>\n",
       "      <td>-0.151434</td>\n",
       "      <td>0.035765</td>\n",
       "      <td>0.050494</td>\n",
       "      <td>0.020934</td>\n",
       "      <td>-0.043080</td>\n",
       "      <td>0.040522</td>\n",
       "      <td>-0.039117</td>\n",
       "      <td>0.640409</td>\n",
       "    </tr>\n",
       "    <tr>\n",
       "      <th>GarageArea</th>\n",
       "      <td>-0.098672</td>\n",
       "      <td>0.344997</td>\n",
       "      <td>0.180403</td>\n",
       "      <td>0.562022</td>\n",
       "      <td>-0.151521</td>\n",
       "      <td>0.478954</td>\n",
       "      <td>0.371600</td>\n",
       "      <td>0.373066</td>\n",
       "      <td>0.296970</td>\n",
       "      <td>-0.018227</td>\n",
       "      <td>...</td>\n",
       "      <td>0.224666</td>\n",
       "      <td>0.241435</td>\n",
       "      <td>-0.121777</td>\n",
       "      <td>0.035087</td>\n",
       "      <td>0.051412</td>\n",
       "      <td>0.061047</td>\n",
       "      <td>-0.027400</td>\n",
       "      <td>0.027974</td>\n",
       "      <td>-0.027378</td>\n",
       "      <td>0.623431</td>\n",
       "    </tr>\n",
       "    <tr>\n",
       "      <th>WoodDeckSF</th>\n",
       "      <td>-0.012579</td>\n",
       "      <td>0.088521</td>\n",
       "      <td>0.171698</td>\n",
       "      <td>0.238923</td>\n",
       "      <td>-0.003334</td>\n",
       "      <td>0.224880</td>\n",
       "      <td>0.205726</td>\n",
       "      <td>0.159718</td>\n",
       "      <td>0.204306</td>\n",
       "      <td>0.067898</td>\n",
       "      <td>...</td>\n",
       "      <td>1.000000</td>\n",
       "      <td>0.058661</td>\n",
       "      <td>-0.125989</td>\n",
       "      <td>-0.032771</td>\n",
       "      <td>-0.074181</td>\n",
       "      <td>0.073378</td>\n",
       "      <td>-0.009551</td>\n",
       "      <td>0.021011</td>\n",
       "      <td>0.022270</td>\n",
       "      <td>0.324413</td>\n",
       "    </tr>\n",
       "    <tr>\n",
       "      <th>OpenPorchSF</th>\n",
       "      <td>-0.006100</td>\n",
       "      <td>0.151972</td>\n",
       "      <td>0.084774</td>\n",
       "      <td>0.308819</td>\n",
       "      <td>-0.032589</td>\n",
       "      <td>0.188686</td>\n",
       "      <td>0.226298</td>\n",
       "      <td>0.125703</td>\n",
       "      <td>0.111761</td>\n",
       "      <td>0.003093</td>\n",
       "      <td>...</td>\n",
       "      <td>0.058661</td>\n",
       "      <td>1.000000</td>\n",
       "      <td>-0.093079</td>\n",
       "      <td>-0.005842</td>\n",
       "      <td>0.074304</td>\n",
       "      <td>0.060762</td>\n",
       "      <td>-0.018584</td>\n",
       "      <td>0.071255</td>\n",
       "      <td>-0.057619</td>\n",
       "      <td>0.315856</td>\n",
       "    </tr>\n",
       "    <tr>\n",
       "      <th>EnclosedPorch</th>\n",
       "      <td>-0.012037</td>\n",
       "      <td>0.010700</td>\n",
       "      <td>-0.018340</td>\n",
       "      <td>-0.113937</td>\n",
       "      <td>0.070356</td>\n",
       "      <td>-0.387268</td>\n",
       "      <td>-0.193919</td>\n",
       "      <td>-0.110204</td>\n",
       "      <td>-0.102303</td>\n",
       "      <td>0.036543</td>\n",
       "      <td>...</td>\n",
       "      <td>-0.125989</td>\n",
       "      <td>-0.093079</td>\n",
       "      <td>1.000000</td>\n",
       "      <td>-0.037305</td>\n",
       "      <td>-0.082864</td>\n",
       "      <td>0.054203</td>\n",
       "      <td>0.018361</td>\n",
       "      <td>-0.028887</td>\n",
       "      <td>-0.009916</td>\n",
       "      <td>-0.128578</td>\n",
       "    </tr>\n",
       "    <tr>\n",
       "      <th>3SsnPorch</th>\n",
       "      <td>-0.043825</td>\n",
       "      <td>0.070029</td>\n",
       "      <td>0.020423</td>\n",
       "      <td>0.030371</td>\n",
       "      <td>0.025504</td>\n",
       "      <td>0.031355</td>\n",
       "      <td>0.045286</td>\n",
       "      <td>0.018796</td>\n",
       "      <td>0.026451</td>\n",
       "      <td>-0.029993</td>\n",
       "      <td>...</td>\n",
       "      <td>-0.032771</td>\n",
       "      <td>-0.005842</td>\n",
       "      <td>-0.037305</td>\n",
       "      <td>1.000000</td>\n",
       "      <td>-0.031436</td>\n",
       "      <td>-0.007992</td>\n",
       "      <td>0.000354</td>\n",
       "      <td>0.029474</td>\n",
       "      <td>0.018645</td>\n",
       "      <td>0.044584</td>\n",
       "    </tr>\n",
       "    <tr>\n",
       "      <th>ScreenPorch</th>\n",
       "      <td>-0.026030</td>\n",
       "      <td>0.041383</td>\n",
       "      <td>0.043160</td>\n",
       "      <td>0.064886</td>\n",
       "      <td>0.054811</td>\n",
       "      <td>-0.050364</td>\n",
       "      <td>-0.038740</td>\n",
       "      <td>0.061466</td>\n",
       "      <td>0.062021</td>\n",
       "      <td>0.088871</td>\n",
       "      <td>...</td>\n",
       "      <td>-0.074181</td>\n",
       "      <td>0.074304</td>\n",
       "      <td>-0.082864</td>\n",
       "      <td>-0.031436</td>\n",
       "      <td>1.000000</td>\n",
       "      <td>0.051307</td>\n",
       "      <td>0.031946</td>\n",
       "      <td>0.023217</td>\n",
       "      <td>0.010694</td>\n",
       "      <td>0.111447</td>\n",
       "    </tr>\n",
       "    <tr>\n",
       "      <th>PoolArea</th>\n",
       "      <td>0.008283</td>\n",
       "      <td>0.206167</td>\n",
       "      <td>0.077672</td>\n",
       "      <td>0.065166</td>\n",
       "      <td>-0.001985</td>\n",
       "      <td>0.004950</td>\n",
       "      <td>0.005829</td>\n",
       "      <td>0.011723</td>\n",
       "      <td>0.140491</td>\n",
       "      <td>0.041709</td>\n",
       "      <td>...</td>\n",
       "      <td>0.073378</td>\n",
       "      <td>0.060762</td>\n",
       "      <td>0.054203</td>\n",
       "      <td>-0.007992</td>\n",
       "      <td>0.051307</td>\n",
       "      <td>1.000000</td>\n",
       "      <td>0.029669</td>\n",
       "      <td>-0.033737</td>\n",
       "      <td>-0.059689</td>\n",
       "      <td>0.092404</td>\n",
       "    </tr>\n",
       "    <tr>\n",
       "      <th>MiscVal</th>\n",
       "      <td>-0.007683</td>\n",
       "      <td>0.003368</td>\n",
       "      <td>0.038068</td>\n",
       "      <td>-0.031406</td>\n",
       "      <td>0.068777</td>\n",
       "      <td>-0.034383</td>\n",
       "      <td>-0.010286</td>\n",
       "      <td>-0.029815</td>\n",
       "      <td>0.003571</td>\n",
       "      <td>0.004940</td>\n",
       "      <td>...</td>\n",
       "      <td>-0.009551</td>\n",
       "      <td>-0.018584</td>\n",
       "      <td>0.018361</td>\n",
       "      <td>0.000354</td>\n",
       "      <td>0.031946</td>\n",
       "      <td>0.029669</td>\n",
       "      <td>1.000000</td>\n",
       "      <td>-0.006495</td>\n",
       "      <td>0.004906</td>\n",
       "      <td>-0.021190</td>\n",
       "    </tr>\n",
       "    <tr>\n",
       "      <th>MoSold</th>\n",
       "      <td>-0.013585</td>\n",
       "      <td>0.011200</td>\n",
       "      <td>0.001205</td>\n",
       "      <td>0.070815</td>\n",
       "      <td>-0.003511</td>\n",
       "      <td>0.012398</td>\n",
       "      <td>0.021490</td>\n",
       "      <td>-0.005965</td>\n",
       "      <td>-0.015727</td>\n",
       "      <td>-0.015211</td>\n",
       "      <td>...</td>\n",
       "      <td>0.021011</td>\n",
       "      <td>0.071255</td>\n",
       "      <td>-0.028887</td>\n",
       "      <td>0.029474</td>\n",
       "      <td>0.023217</td>\n",
       "      <td>-0.033737</td>\n",
       "      <td>-0.006495</td>\n",
       "      <td>1.000000</td>\n",
       "      <td>-0.145721</td>\n",
       "      <td>0.046432</td>\n",
       "    </tr>\n",
       "    <tr>\n",
       "      <th>YrSold</th>\n",
       "      <td>-0.021407</td>\n",
       "      <td>0.007450</td>\n",
       "      <td>-0.014261</td>\n",
       "      <td>-0.027347</td>\n",
       "      <td>0.043950</td>\n",
       "      <td>-0.013618</td>\n",
       "      <td>0.035743</td>\n",
       "      <td>-0.008201</td>\n",
       "      <td>0.014359</td>\n",
       "      <td>0.031706</td>\n",
       "      <td>...</td>\n",
       "      <td>0.022270</td>\n",
       "      <td>-0.057619</td>\n",
       "      <td>-0.009916</td>\n",
       "      <td>0.018645</td>\n",
       "      <td>0.010694</td>\n",
       "      <td>-0.059689</td>\n",
       "      <td>0.004906</td>\n",
       "      <td>-0.145721</td>\n",
       "      <td>1.000000</td>\n",
       "      <td>-0.028923</td>\n",
       "    </tr>\n",
       "    <tr>\n",
       "      <th>SalePrice</th>\n",
       "      <td>-0.084284</td>\n",
       "      <td>0.351799</td>\n",
       "      <td>0.263843</td>\n",
       "      <td>0.790982</td>\n",
       "      <td>-0.077856</td>\n",
       "      <td>0.522897</td>\n",
       "      <td>0.507101</td>\n",
       "      <td>0.477493</td>\n",
       "      <td>0.386420</td>\n",
       "      <td>-0.011378</td>\n",
       "      <td>...</td>\n",
       "      <td>0.324413</td>\n",
       "      <td>0.315856</td>\n",
       "      <td>-0.128578</td>\n",
       "      <td>0.044584</td>\n",
       "      <td>0.111447</td>\n",
       "      <td>0.092404</td>\n",
       "      <td>-0.021190</td>\n",
       "      <td>0.046432</td>\n",
       "      <td>-0.028923</td>\n",
       "      <td>1.000000</td>\n",
       "    </tr>\n",
       "  </tbody>\n",
       "</table>\n",
       "<p>37 rows × 37 columns</p>\n",
       "</div>"
      ],
      "text/plain": [
       "               MSSubClass  LotFrontage   LotArea  OverallQual  OverallCond  \\\n",
       "MSSubClass       1.000000    -0.386347 -0.139781     0.032628    -0.059316   \n",
       "LotFrontage     -0.386347     1.000000  0.426095     0.251646    -0.059213   \n",
       "LotArea         -0.139781     0.426095  1.000000     0.105806    -0.005636   \n",
       "OverallQual      0.032628     0.251646  0.105806     1.000000    -0.091932   \n",
       "OverallCond     -0.059316    -0.059213 -0.005636    -0.091932     1.000000   \n",
       "YearBuilt        0.027850     0.123349  0.014228     0.572323    -0.375983   \n",
       "YearRemodAdd     0.040581     0.088866  0.013788     0.550684     0.073741   \n",
       "MasVnrArea       0.022936     0.193458  0.104160     0.411876    -0.128101   \n",
       "BsmtFinSF1      -0.069836     0.233633  0.214103     0.239666    -0.046231   \n",
       "BsmtFinSF2      -0.065649     0.049900  0.111170    -0.059119     0.040229   \n",
       "BsmtUnfSF       -0.140759     0.132644 -0.002618     0.308159    -0.136841   \n",
       "TotalBsmtSF     -0.238518     0.392075  0.260833     0.537808    -0.171098   \n",
       "1stFlrSF        -0.251758     0.457181  0.299475     0.476224    -0.144203   \n",
       "2ndFlrSF         0.307886     0.080177  0.050986     0.295493     0.028942   \n",
       "LowQualFinSF     0.046474     0.038469  0.004779    -0.030429     0.025494   \n",
       "GrLivArea        0.074853     0.402797  0.263116     0.593007    -0.079686   \n",
       "BsmtFullBath     0.003491     0.100949  0.158155     0.111098    -0.054942   \n",
       "BsmtHalfBath    -0.002333    -0.007234  0.048046    -0.040150     0.117821   \n",
       "FullBath         0.131608     0.198769  0.126031     0.550600    -0.194149   \n",
       "HalfBath         0.177354     0.053532  0.014259     0.273458    -0.060769   \n",
       "BedroomAbvGr    -0.023438     0.263170  0.119690     0.101676     0.012980   \n",
       "KitchenAbvGr     0.281721    -0.006069 -0.017784    -0.183882    -0.087001   \n",
       "TotRmsAbvGrd     0.040380     0.352096  0.190015     0.427452    -0.057583   \n",
       "Fireplaces      -0.045569     0.266639  0.271364     0.396765    -0.023820   \n",
       "GarageYrBlt      0.085072     0.070250 -0.024947     0.547766    -0.324297   \n",
       "GarageCars      -0.040110     0.285691  0.154871     0.600671    -0.185758   \n",
       "GarageArea      -0.098672     0.344997  0.180403     0.562022    -0.151521   \n",
       "WoodDeckSF      -0.012579     0.088521  0.171698     0.238923    -0.003334   \n",
       "OpenPorchSF     -0.006100     0.151972  0.084774     0.308819    -0.032589   \n",
       "EnclosedPorch   -0.012037     0.010700 -0.018340    -0.113937     0.070356   \n",
       "3SsnPorch       -0.043825     0.070029  0.020423     0.030371     0.025504   \n",
       "ScreenPorch     -0.026030     0.041383  0.043160     0.064886     0.054811   \n",
       "PoolArea         0.008283     0.206167  0.077672     0.065166    -0.001985   \n",
       "MiscVal         -0.007683     0.003368  0.038068    -0.031406     0.068777   \n",
       "MoSold          -0.013585     0.011200  0.001205     0.070815    -0.003511   \n",
       "YrSold          -0.021407     0.007450 -0.014261    -0.027347     0.043950   \n",
       "SalePrice       -0.084284     0.351799  0.263843     0.790982    -0.077856   \n",
       "\n",
       "               YearBuilt  YearRemodAdd  MasVnrArea  BsmtFinSF1  BsmtFinSF2  \\\n",
       "MSSubClass      0.027850      0.040581    0.022936   -0.069836   -0.065649   \n",
       "LotFrontage     0.123349      0.088866    0.193458    0.233633    0.049900   \n",
       "LotArea         0.014228      0.013788    0.104160    0.214103    0.111170   \n",
       "OverallQual     0.572323      0.550684    0.411876    0.239666   -0.059119   \n",
       "OverallCond    -0.375983      0.073741   -0.128101   -0.046231    0.040229   \n",
       "YearBuilt       1.000000      0.592855    0.315707    0.249503   -0.049107   \n",
       "YearRemodAdd    0.592855      1.000000    0.179618    0.128451   -0.067759   \n",
       "MasVnrArea      0.315707      0.179618    1.000000    0.264736   -0.072319   \n",
       "BsmtFinSF1      0.249503      0.128451    0.264736    1.000000   -0.050117   \n",
       "BsmtFinSF2     -0.049107     -0.067759   -0.072319   -0.050117    1.000000   \n",
       "BsmtUnfSF       0.149040      0.181133    0.114442   -0.495251   -0.209294   \n",
       "TotalBsmtSF     0.391452      0.291066    0.363936    0.522396    0.104810   \n",
       "1stFlrSF        0.281986      0.240379    0.344501    0.445863    0.097117   \n",
       "2ndFlrSF        0.010308      0.140024    0.174561   -0.137079   -0.099260   \n",
       "LowQualFinSF   -0.183784     -0.062419   -0.069071   -0.064503    0.014807   \n",
       "GrLivArea       0.199010      0.287389    0.390857    0.208171   -0.009640   \n",
       "BsmtFullBath    0.187599      0.119470    0.085310    0.649212    0.158678   \n",
       "BsmtHalfBath   -0.038162     -0.012337    0.026673    0.067418    0.070948   \n",
       "FullBath        0.468271      0.439046    0.276833    0.058543   -0.076444   \n",
       "HalfBath        0.242656      0.183331    0.201444    0.004262   -0.032148   \n",
       "BedroomAbvGr   -0.070651     -0.040581    0.102821   -0.107355   -0.015728   \n",
       "KitchenAbvGr   -0.174800     -0.149598   -0.037610   -0.081007   -0.040751   \n",
       "TotRmsAbvGrd    0.095589      0.191740    0.280682    0.044316   -0.035227   \n",
       "Fireplaces      0.147716      0.112581    0.249070    0.260011    0.046921   \n",
       "GarageYrBlt     0.825667      0.642277    0.252691    0.153484   -0.088011   \n",
       "GarageCars      0.537850      0.420622    0.364204    0.224054   -0.038264   \n",
       "GarageArea      0.478954      0.371600    0.373066    0.296970   -0.018227   \n",
       "WoodDeckSF      0.224880      0.205726    0.159718    0.204306    0.067898   \n",
       "OpenPorchSF     0.188686      0.226298    0.125703    0.111761    0.003093   \n",
       "EnclosedPorch  -0.387268     -0.193919   -0.110204   -0.102303    0.036543   \n",
       "3SsnPorch       0.031355      0.045286    0.018796    0.026451   -0.029993   \n",
       "ScreenPorch    -0.050364     -0.038740    0.061466    0.062021    0.088871   \n",
       "PoolArea        0.004950      0.005829    0.011723    0.140491    0.041709   \n",
       "MiscVal        -0.034383     -0.010286   -0.029815    0.003571    0.004940   \n",
       "MoSold          0.012398      0.021490   -0.005965   -0.015727   -0.015211   \n",
       "YrSold         -0.013618      0.035743   -0.008201    0.014359    0.031706   \n",
       "SalePrice       0.522897      0.507101    0.477493    0.386420   -0.011378   \n",
       "\n",
       "               ...  WoodDeckSF  OpenPorchSF  EnclosedPorch  3SsnPorch  \\\n",
       "MSSubClass     ...   -0.012579    -0.006100      -0.012037  -0.043825   \n",
       "LotFrontage    ...    0.088521     0.151972       0.010700   0.070029   \n",
       "LotArea        ...    0.171698     0.084774      -0.018340   0.020423   \n",
       "OverallQual    ...    0.238923     0.308819      -0.113937   0.030371   \n",
       "OverallCond    ...   -0.003334    -0.032589       0.070356   0.025504   \n",
       "YearBuilt      ...    0.224880     0.188686      -0.387268   0.031355   \n",
       "YearRemodAdd   ...    0.205726     0.226298      -0.193919   0.045286   \n",
       "MasVnrArea     ...    0.159718     0.125703      -0.110204   0.018796   \n",
       "BsmtFinSF1     ...    0.204306     0.111761      -0.102303   0.026451   \n",
       "BsmtFinSF2     ...    0.067898     0.003093       0.036543  -0.029993   \n",
       "BsmtUnfSF      ...   -0.005316     0.129005      -0.002538   0.020764   \n",
       "TotalBsmtSF    ...    0.232019     0.247264      -0.095478   0.037384   \n",
       "1stFlrSF       ...    0.235459     0.211671      -0.065292   0.056104   \n",
       "2ndFlrSF       ...    0.092165     0.208026       0.061989  -0.024358   \n",
       "LowQualFinSF   ...   -0.025444     0.018251       0.061081  -0.004296   \n",
       "GrLivArea      ...    0.247433     0.330224       0.009113   0.020643   \n",
       "BsmtFullBath   ...    0.175315     0.067341      -0.049911  -0.000106   \n",
       "BsmtHalfBath   ...    0.040161    -0.025324      -0.008555   0.035114   \n",
       "FullBath       ...    0.187703     0.259977      -0.115093   0.035353   \n",
       "HalfBath       ...    0.108080     0.199740      -0.095317  -0.004972   \n",
       "BedroomAbvGr   ...    0.046854     0.093810       0.041570  -0.024478   \n",
       "KitchenAbvGr   ...   -0.090130    -0.070091       0.037312  -0.024600   \n",
       "TotRmsAbvGrd   ...    0.165984     0.234192       0.004151  -0.006683   \n",
       "Fireplaces     ...    0.200019     0.169405      -0.024822   0.011257   \n",
       "GarageYrBlt    ...    0.224577     0.228425      -0.297003   0.023544   \n",
       "GarageCars     ...    0.226342     0.213569      -0.151434   0.035765   \n",
       "GarageArea     ...    0.224666     0.241435      -0.121777   0.035087   \n",
       "WoodDeckSF     ...    1.000000     0.058661      -0.125989  -0.032771   \n",
       "OpenPorchSF    ...    0.058661     1.000000      -0.093079  -0.005842   \n",
       "EnclosedPorch  ...   -0.125989    -0.093079       1.000000  -0.037305   \n",
       "3SsnPorch      ...   -0.032771    -0.005842      -0.037305   1.000000   \n",
       "ScreenPorch    ...   -0.074181     0.074304      -0.082864  -0.031436   \n",
       "PoolArea       ...    0.073378     0.060762       0.054203  -0.007992   \n",
       "MiscVal        ...   -0.009551    -0.018584       0.018361   0.000354   \n",
       "MoSold         ...    0.021011     0.071255      -0.028887   0.029474   \n",
       "YrSold         ...    0.022270    -0.057619      -0.009916   0.018645   \n",
       "SalePrice      ...    0.324413     0.315856      -0.128578   0.044584   \n",
       "\n",
       "               ScreenPorch  PoolArea   MiscVal    MoSold    YrSold  SalePrice  \n",
       "MSSubClass       -0.026030  0.008283 -0.007683 -0.013585 -0.021407  -0.084284  \n",
       "LotFrontage       0.041383  0.206167  0.003368  0.011200  0.007450   0.351799  \n",
       "LotArea           0.043160  0.077672  0.038068  0.001205 -0.014261   0.263843  \n",
       "OverallQual       0.064886  0.065166 -0.031406  0.070815 -0.027347   0.790982  \n",
       "OverallCond       0.054811 -0.001985  0.068777 -0.003511  0.043950  -0.077856  \n",
       "YearBuilt        -0.050364  0.004950 -0.034383  0.012398 -0.013618   0.522897  \n",
       "YearRemodAdd     -0.038740  0.005829 -0.010286  0.021490  0.035743   0.507101  \n",
       "MasVnrArea        0.061466  0.011723 -0.029815 -0.005965 -0.008201   0.477493  \n",
       "BsmtFinSF1        0.062021  0.140491  0.003571 -0.015727  0.014359   0.386420  \n",
       "BsmtFinSF2        0.088871  0.041709  0.004940 -0.015211  0.031706  -0.011378  \n",
       "BsmtUnfSF        -0.012579 -0.035092 -0.023837  0.034888 -0.041258   0.214479  \n",
       "TotalBsmtSF       0.084489  0.126053 -0.018479  0.013196 -0.014969   0.613581  \n",
       "1stFlrSF          0.088758  0.131525 -0.021096  0.031372 -0.013604   0.605852  \n",
       "2ndFlrSF          0.040606  0.081487  0.016197  0.035164 -0.028700   0.319334  \n",
       "LowQualFinSF      0.026799  0.062157 -0.003793 -0.022174 -0.028921  -0.025606  \n",
       "GrLivArea         0.101510  0.170205 -0.002416  0.050240 -0.036526   0.708624  \n",
       "BsmtFullBath      0.023148  0.067616 -0.023047 -0.025361  0.067049   0.227122  \n",
       "BsmtHalfBath      0.032121  0.020025 -0.007367  0.032873 -0.046524  -0.016844  \n",
       "FullBath         -0.008106  0.049604 -0.014290  0.055872 -0.019669   0.560664  \n",
       "HalfBath          0.072426  0.022381  0.001290 -0.009050 -0.010269   0.284108  \n",
       "BedroomAbvGr      0.044300  0.070703  0.007767  0.046544 -0.036014   0.168213  \n",
       "KitchenAbvGr     -0.051613 -0.014525  0.062341  0.026589  0.031687  -0.135907  \n",
       "TotRmsAbvGrd      0.059383  0.083757  0.024763  0.036907 -0.034516   0.533723  \n",
       "Fireplaces        0.184530  0.095074  0.001409  0.046357 -0.024096   0.466929  \n",
       "GarageYrBlt      -0.075418 -0.014501 -0.032417  0.005337 -0.001014   0.486362  \n",
       "GarageCars        0.050494  0.020934 -0.043080  0.040522 -0.039117   0.640409  \n",
       "GarageArea        0.051412  0.061047 -0.027400  0.027974 -0.027378   0.623431  \n",
       "WoodDeckSF       -0.074181  0.073378 -0.009551  0.021011  0.022270   0.324413  \n",
       "OpenPorchSF       0.074304  0.060762 -0.018584  0.071255 -0.057619   0.315856  \n",
       "EnclosedPorch    -0.082864  0.054203  0.018361 -0.028887 -0.009916  -0.128578  \n",
       "3SsnPorch        -0.031436 -0.007992  0.000354  0.029474  0.018645   0.044584  \n",
       "ScreenPorch       1.000000  0.051307  0.031946  0.023217  0.010694   0.111447  \n",
       "PoolArea          0.051307  1.000000  0.029669 -0.033737 -0.059689   0.092404  \n",
       "MiscVal           0.031946  0.029669  1.000000 -0.006495  0.004906  -0.021190  \n",
       "MoSold            0.023217 -0.033737 -0.006495  1.000000 -0.145721   0.046432  \n",
       "YrSold            0.010694 -0.059689  0.004906 -0.145721  1.000000  -0.028923  \n",
       "SalePrice         0.111447  0.092404 -0.021190  0.046432 -0.028923   1.000000  \n",
       "\n",
       "[37 rows x 37 columns]"
      ]
     },
     "execution_count": 6,
     "metadata": {},
     "output_type": "execute_result"
    }
   ],
   "source": [
    "df.corr(method=\"pearson\")"
   ]
  },
  {
   "cell_type": "markdown",
   "metadata": {
    "id": "3eFwIwmRQ_gh"
   },
   "source": [
    "Para poder identificar mejor las variables correlacionadas entre si, se ha realizado un mapa de calor, donde los valores de correlación mayores a 0.75 son mostrados en blanco. Como el valor de SalePrice es la variable de interés para el problema, se ha puesto como primera variable, y se han ordenado las otras a partir de esta."
   ]
  },
  {
   "cell_type": "markdown",
   "metadata": {
    "id": "3CRBNR8DaeIz"
   },
   "source": [
    "##### Columnas con porcentaje de valores nulos mas elevados"
   ]
  },
  {
   "cell_type": "code",
   "execution_count": 7,
   "metadata": {
    "colab": {
     "base_uri": "https://localhost:8080/",
     "height": 656
    },
    "id": "or0iWQ2GMkR2",
    "outputId": "e059b5fb-8f55-4e1b-fbf7-b1c726d136c8"
   },
   "outputs": [
    {
     "data": {
      "image/png": "[encoded data removed]",
      "text/plain": [
       "<Figure size 720x720 with 2 Axes>"
      ]
     },
     "metadata": {
      "needs_background": "light"
     },
     "output_type": "display_data"
    }
   ],
   "source": [
    "train = df\n",
    "columns = df.corr(method=\"pearson\")[\"SalePrice\"].sort_values(ascending=False)[:].index #:15 o dejamos todos¿?\n",
    "\n",
    "corr = train[columns].corr(method=\"pearson\")\n",
    "\n",
    "plt.figure(figsize=(10,10))\n",
    "sns.heatmap(corr, vmax=0.75);"
   ]
  },
  {
   "cell_type": "markdown",
   "metadata": {
    "id": "ImF0Pq4MRPJj"
   },
   "source": [
    "Para tener más seguridad antes de eliminar los datos, tambien se muestran los 3 valores máximos para cada variable de correlacion, ignorando la correlación de valor 1 de la misma variable."
   ]
  },
  {
   "cell_type": "code",
   "execution_count": 8,
   "metadata": {
    "colab": {
     "base_uri": "https://localhost:8080/"
    },
    "id": "LQlzeR2BRJVC",
    "outputId": "188fedbc-b511-43a7-a204-b5e9c1b1daa6"
   },
   "outputs": [
    {
     "name": "stdout",
     "output_type": "stream",
     "text": [
      "SalePrice: OverallQual    0.790982\n",
      "GrLivArea      0.708624\n",
      "GarageCars     0.640409\n",
      "Name: SalePrice, dtype: float64\n",
      "#############################################\n",
      "OverallQual: SalePrice     0.790982\n",
      "GarageCars    0.600671\n",
      "GrLivArea     0.593007\n",
      "Name: OverallQual, dtype: float64\n",
      "#############################################\n",
      "GrLivArea: TotRmsAbvGrd    0.825489\n",
      "SalePrice       0.708624\n",
      "2ndFlrSF        0.687501\n",
      "Name: GrLivArea, dtype: float64\n",
      "#############################################\n",
      "GarageCars: GarageArea     0.882475\n",
      "SalePrice      0.640409\n",
      "OverallQual    0.600671\n",
      "Name: GarageCars, dtype: float64\n",
      "#############################################\n",
      "GarageArea: GarageCars     0.882475\n",
      "SalePrice      0.623431\n",
      "GarageYrBlt    0.564567\n",
      "Name: GarageArea, dtype: float64\n",
      "#############################################\n",
      "TotalBsmtSF: 1stFlrSF       0.819530\n",
      "SalePrice      0.613581\n",
      "OverallQual    0.537808\n",
      "Name: TotalBsmtSF, dtype: float64\n",
      "#############################################\n",
      "1stFlrSF: TotalBsmtSF    0.819530\n",
      "SalePrice      0.605852\n",
      "GrLivArea      0.566024\n",
      "Name: 1stFlrSF, dtype: float64\n",
      "#############################################\n",
      "FullBath: GrLivArea       0.630012\n",
      "SalePrice       0.560664\n",
      "TotRmsAbvGrd    0.554784\n",
      "Name: FullBath, dtype: float64\n",
      "#############################################\n",
      "TotRmsAbvGrd: GrLivArea       0.825489\n",
      "BedroomAbvGr    0.676620\n",
      "2ndFlrSF        0.616423\n",
      "Name: TotRmsAbvGrd, dtype: float64\n",
      "#############################################\n",
      "YearBuilt: GarageYrBlt     0.825667\n",
      "YearRemodAdd    0.592855\n",
      "OverallQual     0.572323\n",
      "Name: YearBuilt, dtype: float64\n",
      "#############################################\n",
      "YearRemodAdd: GarageYrBlt    0.642277\n",
      "YearBuilt      0.592855\n",
      "OverallQual    0.550684\n",
      "Name: YearRemodAdd, dtype: float64\n",
      "#############################################\n",
      "GarageYrBlt: YearBuilt       0.825667\n",
      "YearRemodAdd    0.642277\n",
      "GarageCars      0.588920\n",
      "Name: GarageYrBlt, dtype: float64\n",
      "#############################################\n",
      "MasVnrArea: SalePrice      0.477493\n",
      "OverallQual    0.411876\n",
      "GrLivArea      0.390857\n",
      "Name: MasVnrArea, dtype: float64\n",
      "#############################################\n",
      "Fireplaces: SalePrice    0.466929\n",
      "GrLivArea    0.461679\n",
      "1stFlrSF     0.410531\n",
      "Name: Fireplaces, dtype: float64\n",
      "#############################################\n",
      "BsmtFinSF1: BsmtFullBath    0.649212\n",
      "TotalBsmtSF     0.522396\n",
      "1stFlrSF        0.445863\n",
      "Name: BsmtFinSF1, dtype: float64\n",
      "#############################################\n",
      "LotFrontage: 1stFlrSF     0.457181\n",
      "LotArea      0.426095\n",
      "GrLivArea    0.402797\n",
      "Name: LotFrontage, dtype: float64\n",
      "#############################################\n",
      "WoodDeckSF: SalePrice      0.324413\n",
      "GrLivArea      0.247433\n",
      "OverallQual    0.238923\n",
      "Name: WoodDeckSF, dtype: float64\n",
      "#############################################\n",
      "2ndFlrSF: GrLivArea       0.687501\n",
      "TotRmsAbvGrd    0.616423\n",
      "HalfBath        0.609707\n",
      "Name: 2ndFlrSF, dtype: float64\n",
      "#############################################\n",
      "OpenPorchSF: GrLivArea      0.330224\n",
      "SalePrice      0.315856\n",
      "OverallQual    0.308819\n",
      "Name: OpenPorchSF, dtype: float64\n",
      "#############################################\n",
      "HalfBath: 2ndFlrSF        0.609707\n",
      "GrLivArea       0.415772\n",
      "TotRmsAbvGrd    0.343415\n",
      "Name: HalfBath, dtype: float64\n",
      "#############################################\n",
      "LotArea: LotFrontage    0.426095\n",
      "1stFlrSF       0.299475\n",
      "Fireplaces     0.271364\n",
      "Name: LotArea, dtype: float64\n",
      "#############################################\n",
      "BsmtFullBath: BsmtFinSF1     0.649212\n",
      "TotalBsmtSF    0.307351\n",
      "1stFlrSF       0.244671\n",
      "Name: BsmtFullBath, dtype: float64\n",
      "#############################################\n",
      "BsmtUnfSF: TotalBsmtSF    0.415360\n",
      "1stFlrSF       0.317987\n",
      "OverallQual    0.308159\n",
      "Name: BsmtUnfSF, dtype: float64\n",
      "#############################################\n",
      "BedroomAbvGr: TotRmsAbvGrd    0.676620\n",
      "GrLivArea       0.521270\n",
      "2ndFlrSF        0.502901\n",
      "Name: BedroomAbvGr, dtype: float64\n",
      "#############################################\n",
      "ScreenPorch: Fireplaces    0.184530\n",
      "SalePrice     0.111447\n",
      "GrLivArea     0.101510\n",
      "Name: ScreenPorch, dtype: float64\n",
      "#############################################\n",
      "PoolArea: LotFrontage    0.206167\n",
      "GrLivArea      0.170205\n",
      "BsmtFinSF1     0.140491\n",
      "Name: PoolArea, dtype: float64\n",
      "#############################################\n",
      "MoSold: OpenPorchSF    0.071255\n",
      "OverallQual    0.070815\n",
      "FullBath       0.055872\n",
      "Name: MoSold, dtype: float64\n",
      "#############################################\n",
      "3SsnPorch: LotFrontage     0.070029\n",
      "1stFlrSF        0.056104\n",
      "YearRemodAdd    0.045286\n",
      "Name: 3SsnPorch, dtype: float64\n",
      "#############################################\n",
      "BsmtFinSF2: BsmtFullBath    0.158678\n",
      "LotArea         0.111170\n",
      "TotalBsmtSF     0.104810\n",
      "Name: BsmtFinSF2, dtype: float64\n",
      "#############################################\n",
      "BsmtHalfBath: OverallCond    0.117821\n",
      "BsmtFinSF2     0.070948\n",
      "BsmtFinSF1     0.067418\n",
      "Name: BsmtHalfBath, dtype: float64\n",
      "#############################################\n",
      "MiscVal: OverallCond     0.068777\n",
      "KitchenAbvGr    0.062341\n",
      "LotArea         0.038068\n",
      "Name: MiscVal, dtype: float64\n",
      "#############################################\n",
      "LowQualFinSF: GrLivArea       0.134683\n",
      "TotRmsAbvGrd    0.131185\n",
      "BedroomAbvGr    0.105607\n",
      "Name: LowQualFinSF, dtype: float64\n",
      "#############################################\n",
      "YrSold: BsmtFullBath    0.067049\n",
      "OverallCond     0.043950\n",
      "YearRemodAdd    0.035743\n",
      "Name: YrSold, dtype: float64\n",
      "#############################################\n",
      "OverallCond: BsmtHalfBath     0.117821\n",
      "YearRemodAdd     0.073741\n",
      "EnclosedPorch    0.070356\n",
      "Name: OverallCond, dtype: float64\n",
      "#############################################\n",
      "MSSubClass: 2ndFlrSF        0.307886\n",
      "KitchenAbvGr    0.281721\n",
      "HalfBath        0.177354\n",
      "Name: MSSubClass, dtype: float64\n",
      "#############################################\n",
      "EnclosedPorch: OverallCond     0.070356\n",
      "2ndFlrSF        0.061989\n",
      "LowQualFinSF    0.061081\n",
      "Name: EnclosedPorch, dtype: float64\n",
      "#############################################\n",
      "KitchenAbvGr: MSSubClass      0.281721\n",
      "TotRmsAbvGrd    0.256045\n",
      "BedroomAbvGr    0.198597\n",
      "Name: KitchenAbvGr, dtype: float64\n",
      "#############################################\n"
     ]
    }
   ],
   "source": [
    "for column in columns:\n",
    "  temp = df.corr(method=\"pearson\")[column].sort_values(ascending=False)[1:4]\n",
    "  print(\"{}: {}\".format(column,temp))\n",
    "  print(\"#############################################\")"
   ]
  },
  {
   "cell_type": "markdown",
   "metadata": {
    "id": "XXpQf6_JRroC"
   },
   "source": [
    "Juntado el mapa de calor con los datos obtenidos en este punto, podemos eliminar ciertas variables por su correlación. \n",
    "\n",
    "La primera que hemos decidido eliminar es la de 'GarageArea', esta tiene alta correlación con la variable de 'GarageCars', además logicamente el area del garage esta muy ligada al numero de coches que pueden haber, y se elimina la de area porque son valores mucho mayores que la del numero de coches que son valores más acotados.\n",
    "\n",
    "Por otro lado, la variable de 'OverallQual' tiene una alta correlacion con la de 'SalePrice' que es la variable a predecir, y esta con ciertas operaciones puede llevar a encontrar directamente el valor esperado del precio, cosa que no es interesante, ya que un modelo entrenado de esta forma, daría malas predicciones si faltara la calidad general de la casa, por este motivo también se elimina."
   ]
  },
  {
   "cell_type": "code",
   "execution_count": 9,
   "metadata": {
    "id": "Mnst4sXwRt6Y"
   },
   "outputs": [],
   "source": [
    "#Eliminamos variables con alta correlacion y con sentido\n",
    "df.drop([\"GarageArea\",\"OverallQual\"],axis=1,inplace=True)"
   ]
  },
  {
   "cell_type": "markdown",
   "metadata": {
    "id": "9hJrs02VHDH-"
   },
   "source": [
    "# 3. Tratamiento de missing"
   ]
  },
  {
   "cell_type": "markdown",
   "metadata": {
    "id": "0fkLJno62HgF"
   },
   "source": [
    "El primer paso realizado ha sido identificar el porcentage de valores faltantes en las distintas columnas y mostrar los más altos."
   ]
  },
  {
   "cell_type": "code",
   "execution_count": 10,
   "metadata": {
    "colab": {
     "base_uri": "https://localhost:8080/"
    },
    "id": "H2DcgD8ytlL-",
    "outputId": "70905f09-c1f0-464c-91dc-899fe57a0376"
   },
   "outputs": [
    {
     "data": {
      "text/plain": [
       "PoolQC         99.520548\n",
       "MiscFeature    96.301370\n",
       "Alley          93.767123\n",
       "Fence          80.753425\n",
       "FireplaceQu    47.260274\n",
       "LotFrontage    17.739726\n",
       "GarageType      5.547945\n",
       "GarageYrBlt     5.547945\n",
       "GarageQual      5.547945\n",
       "GarageCond      5.547945\n",
       "dtype: float64"
      ]
     },
     "execution_count": 10,
     "metadata": {},
     "output_type": "execute_result"
    }
   ],
   "source": [
    "(((df.isnull().sum()/ len(df)).sort_values(ascending=False)[:10])*100)"
   ]
  },
  {
   "cell_type": "markdown",
   "metadata": {
    "id": "p8fCLh6prviP"
   },
   "source": [
    "Como se puede observar, existen un total de 6 variables con valores faltantes mayores al 10%, como se considera que es suficientemente grande la falta de datos, estas columnas se eliminan para evitar añadir error en las predicciones debido a añadir demasiados datos no reales."
   ]
  },
  {
   "cell_type": "code",
   "execution_count": 11,
   "metadata": {
    "id": "Rd3wCQZ_sL9Q"
   },
   "outputs": [],
   "source": [
    " df.drop([\"PoolQC\",\"MiscFeature\",\"Alley\",\"Fence\",\"FireplaceQu\",\"LotFrontage\",\"LotFrontage\"],axis=1,inplace=True)"
   ]
  },
  {
   "cell_type": "markdown",
   "metadata": {
    "id": "PGLZyhgwBNCi"
   },
   "source": [
    "El siguiente paso realizado en el tratamiento de missing trata de analizar las variables que tienen información sobre el garage."
   ]
  },
  {
   "cell_type": "markdown",
   "metadata": {
    "id": "tmcSNEFqBNdZ"
   },
   "source": [
    "Con los porcentages de error de los atributos relacionados con el garaje se pueve ver como todas las variables de garaje tienen el mismo valor de nulos y además observando los datos estos coinciden, en este caso se considera que no existe garaje y por lo tanto se reemplazn los valores NaN con una categoría adicional denominada \"None\". \n",
    "\n",
    "Para comprovar que esta suposición es cierta solo es necesario comparar si el numero de garages con capacidad para 0 coches equivale a el numero de garajes con las variables faltantes.\n"
   ]
  },
  {
   "cell_type": "code",
   "execution_count": 12,
   "metadata": {
    "colab": {
     "base_uri": "https://localhost:8080/"
    },
    "id": "uhnTSfLTBYif",
    "outputId": "2eb3a331-2b64-4d91-ab68-05c57b18629b"
   },
   "outputs": [
    {
     "data": {
      "text/plain": [
       "True"
      ]
     },
     "execution_count": 12,
     "metadata": {},
     "output_type": "execute_result"
    }
   ],
   "source": [
    "df['GarageType'].isnull().sum()==(df['GarageCars']==0).sum() #Comparacion"
   ]
  },
  {
   "cell_type": "markdown",
   "metadata": {
    "id": "5sz3WySlBawO"
   },
   "source": [
    "Como es cierta la compración se puede proceder a aplicar el reemplazamiento mencionado."
   ]
  },
  {
   "cell_type": "code",
   "execution_count": 13,
   "metadata": {
    "id": "GqquwjCTraQE"
   },
   "outputs": [],
   "source": [
    "# NaN en garage implica que no hay garage\n",
    "df[\"GarageYrBlt\"].fillna(\"None\",inplace=True)\n",
    "df[\"GarageType\"].fillna(\"None\",inplace=True)\n",
    "df[\"GarageFinish\"].fillna(\"None\",inplace=True)\n",
    "df[\"GarageCond\"].fillna(\"None\",inplace=True)\n",
    "df[\"GarageQual\"].fillna(\"None\",inplace=True)"
   ]
  },
  {
   "cell_type": "markdown",
   "metadata": {
    "id": "i3h3JGgPBh3l"
   },
   "source": [
    "Se van a tratar también con cierto detalle las otras variables que tienen valores missing para poder obtener una mejor predicción. A continuación se muestran las variables que aún tienen valores missing:"
   ]
  },
  {
   "cell_type": "code",
   "execution_count": 14,
   "metadata": {
    "colab": {
     "base_uri": "https://localhost:8080/"
    },
    "id": "eEDCLt3GBjmQ",
    "outputId": "31f68e0f-6233-4e7f-b318-3ca32e2d0a90"
   },
   "outputs": [
    {
     "data": {
      "text/plain": [
       "BsmtFinType2    2.602740\n",
       "BsmtExposure    2.602740\n",
       "BsmtFinType1    2.534247\n",
       "BsmtQual        2.534247\n",
       "BsmtCond        2.534247\n",
       "MasVnrType      0.547945\n",
       "MasVnrArea      0.547945\n",
       "Electrical      0.068493\n",
       "Functional      0.000000\n",
       "TotRmsAbvGrd    0.000000\n",
       "dtype: float64"
      ]
     },
     "execution_count": 14,
     "metadata": {},
     "output_type": "execute_result"
    }
   ],
   "source": [
    "(((df.isnull().sum()/ len(df)).sort_values(ascending=False)[:10])*100)"
   ]
  },
  {
   "cell_type": "markdown",
   "metadata": {
    "id": "uW0-bQ6lBm4F"
   },
   "source": [
    "Un tipo de variables que son muy parecidas a las de garaje son las del sotano. Aunque para estas se harà un analisis, ya que las de BsmtFinType2 y BsmtExposure tienen más variables nulas que las otras correspondientes a sotano. Para ello se muestran todas las filas con valores NaN correspondientes a columnas relacionadas con el sotano."
   ]
  },
  {
   "cell_type": "code",
   "execution_count": 15,
   "metadata": {
    "colab": {
     "base_uri": "https://localhost:8080/",
     "height": 1000
    },
    "id": "qUR9JxoPBn6f",
    "outputId": "fdbeaad9-bd8e-4c06-90fa-765abdd7e769"
   },
   "outputs": [
    {
     "data": {
      "text/html": [
       "<div>\n",
       "<style scoped>\n",
       "    .dataframe tbody tr th:only-of-type {\n",
       "        vertical-align: middle;\n",
       "    }\n",
       "\n",
       "    .dataframe tbody tr th {\n",
       "        vertical-align: top;\n",
       "    }\n",
       "\n",
       "    .dataframe thead th {\n",
       "        text-align: right;\n",
       "    }\n",
       "</style>\n",
       "<table border=\"1\" class=\"dataframe\">\n",
       "  <thead>\n",
       "    <tr style=\"text-align: right;\">\n",
       "      <th></th>\n",
       "      <th>BsmtQual</th>\n",
       "      <th>BsmtCond</th>\n",
       "      <th>BsmtExposure</th>\n",
       "      <th>BsmtFinType1</th>\n",
       "      <th>BsmtFinSF1</th>\n",
       "      <th>BsmtFinType2</th>\n",
       "      <th>BsmtFinSF2</th>\n",
       "      <th>BsmtUnfSF</th>\n",
       "      <th>BsmtFullBath</th>\n",
       "      <th>BsmtHalfBath</th>\n",
       "    </tr>\n",
       "  </thead>\n",
       "  <tbody>\n",
       "    <tr>\n",
       "      <th>17</th>\n",
       "      <td>NaN</td>\n",
       "      <td>NaN</td>\n",
       "      <td>NaN</td>\n",
       "      <td>NaN</td>\n",
       "      <td>0</td>\n",
       "      <td>NaN</td>\n",
       "      <td>0</td>\n",
       "      <td>0</td>\n",
       "      <td>0</td>\n",
       "      <td>0</td>\n",
       "    </tr>\n",
       "    <tr>\n",
       "      <th>39</th>\n",
       "      <td>NaN</td>\n",
       "      <td>NaN</td>\n",
       "      <td>NaN</td>\n",
       "      <td>NaN</td>\n",
       "      <td>0</td>\n",
       "      <td>NaN</td>\n",
       "      <td>0</td>\n",
       "      <td>0</td>\n",
       "      <td>0</td>\n",
       "      <td>0</td>\n",
       "    </tr>\n",
       "    <tr>\n",
       "      <th>90</th>\n",
       "      <td>NaN</td>\n",
       "      <td>NaN</td>\n",
       "      <td>NaN</td>\n",
       "      <td>NaN</td>\n",
       "      <td>0</td>\n",
       "      <td>NaN</td>\n",
       "      <td>0</td>\n",
       "      <td>0</td>\n",
       "      <td>0</td>\n",
       "      <td>0</td>\n",
       "    </tr>\n",
       "    <tr>\n",
       "      <th>102</th>\n",
       "      <td>NaN</td>\n",
       "      <td>NaN</td>\n",
       "      <td>NaN</td>\n",
       "      <td>NaN</td>\n",
       "      <td>0</td>\n",
       "      <td>NaN</td>\n",
       "      <td>0</td>\n",
       "      <td>0</td>\n",
       "      <td>0</td>\n",
       "      <td>0</td>\n",
       "    </tr>\n",
       "    <tr>\n",
       "      <th>156</th>\n",
       "      <td>NaN</td>\n",
       "      <td>NaN</td>\n",
       "      <td>NaN</td>\n",
       "      <td>NaN</td>\n",
       "      <td>0</td>\n",
       "      <td>NaN</td>\n",
       "      <td>0</td>\n",
       "      <td>0</td>\n",
       "      <td>0</td>\n",
       "      <td>0</td>\n",
       "    </tr>\n",
       "    <tr>\n",
       "      <th>182</th>\n",
       "      <td>NaN</td>\n",
       "      <td>NaN</td>\n",
       "      <td>NaN</td>\n",
       "      <td>NaN</td>\n",
       "      <td>0</td>\n",
       "      <td>NaN</td>\n",
       "      <td>0</td>\n",
       "      <td>0</td>\n",
       "      <td>0</td>\n",
       "      <td>0</td>\n",
       "    </tr>\n",
       "    <tr>\n",
       "      <th>259</th>\n",
       "      <td>NaN</td>\n",
       "      <td>NaN</td>\n",
       "      <td>NaN</td>\n",
       "      <td>NaN</td>\n",
       "      <td>0</td>\n",
       "      <td>NaN</td>\n",
       "      <td>0</td>\n",
       "      <td>0</td>\n",
       "      <td>0</td>\n",
       "      <td>0</td>\n",
       "    </tr>\n",
       "    <tr>\n",
       "      <th>332</th>\n",
       "      <td>Gd</td>\n",
       "      <td>TA</td>\n",
       "      <td>No</td>\n",
       "      <td>GLQ</td>\n",
       "      <td>1124</td>\n",
       "      <td>NaN</td>\n",
       "      <td>479</td>\n",
       "      <td>1603</td>\n",
       "      <td>1</td>\n",
       "      <td>0</td>\n",
       "    </tr>\n",
       "    <tr>\n",
       "      <th>342</th>\n",
       "      <td>NaN</td>\n",
       "      <td>NaN</td>\n",
       "      <td>NaN</td>\n",
       "      <td>NaN</td>\n",
       "      <td>0</td>\n",
       "      <td>NaN</td>\n",
       "      <td>0</td>\n",
       "      <td>0</td>\n",
       "      <td>0</td>\n",
       "      <td>0</td>\n",
       "    </tr>\n",
       "    <tr>\n",
       "      <th>362</th>\n",
       "      <td>NaN</td>\n",
       "      <td>NaN</td>\n",
       "      <td>NaN</td>\n",
       "      <td>NaN</td>\n",
       "      <td>0</td>\n",
       "      <td>NaN</td>\n",
       "      <td>0</td>\n",
       "      <td>0</td>\n",
       "      <td>0</td>\n",
       "      <td>0</td>\n",
       "    </tr>\n",
       "    <tr>\n",
       "      <th>371</th>\n",
       "      <td>NaN</td>\n",
       "      <td>NaN</td>\n",
       "      <td>NaN</td>\n",
       "      <td>NaN</td>\n",
       "      <td>0</td>\n",
       "      <td>NaN</td>\n",
       "      <td>0</td>\n",
       "      <td>0</td>\n",
       "      <td>0</td>\n",
       "      <td>0</td>\n",
       "    </tr>\n",
       "    <tr>\n",
       "      <th>392</th>\n",
       "      <td>NaN</td>\n",
       "      <td>NaN</td>\n",
       "      <td>NaN</td>\n",
       "      <td>NaN</td>\n",
       "      <td>0</td>\n",
       "      <td>NaN</td>\n",
       "      <td>0</td>\n",
       "      <td>0</td>\n",
       "      <td>0</td>\n",
       "      <td>0</td>\n",
       "    </tr>\n",
       "    <tr>\n",
       "      <th>520</th>\n",
       "      <td>NaN</td>\n",
       "      <td>NaN</td>\n",
       "      <td>NaN</td>\n",
       "      <td>NaN</td>\n",
       "      <td>0</td>\n",
       "      <td>NaN</td>\n",
       "      <td>0</td>\n",
       "      <td>0</td>\n",
       "      <td>0</td>\n",
       "      <td>0</td>\n",
       "    </tr>\n",
       "    <tr>\n",
       "      <th>532</th>\n",
       "      <td>NaN</td>\n",
       "      <td>NaN</td>\n",
       "      <td>NaN</td>\n",
       "      <td>NaN</td>\n",
       "      <td>0</td>\n",
       "      <td>NaN</td>\n",
       "      <td>0</td>\n",
       "      <td>0</td>\n",
       "      <td>0</td>\n",
       "      <td>0</td>\n",
       "    </tr>\n",
       "    <tr>\n",
       "      <th>533</th>\n",
       "      <td>NaN</td>\n",
       "      <td>NaN</td>\n",
       "      <td>NaN</td>\n",
       "      <td>NaN</td>\n",
       "      <td>0</td>\n",
       "      <td>NaN</td>\n",
       "      <td>0</td>\n",
       "      <td>0</td>\n",
       "      <td>0</td>\n",
       "      <td>0</td>\n",
       "    </tr>\n",
       "    <tr>\n",
       "      <th>553</th>\n",
       "      <td>NaN</td>\n",
       "      <td>NaN</td>\n",
       "      <td>NaN</td>\n",
       "      <td>NaN</td>\n",
       "      <td>0</td>\n",
       "      <td>NaN</td>\n",
       "      <td>0</td>\n",
       "      <td>0</td>\n",
       "      <td>0</td>\n",
       "      <td>0</td>\n",
       "    </tr>\n",
       "    <tr>\n",
       "      <th>646</th>\n",
       "      <td>NaN</td>\n",
       "      <td>NaN</td>\n",
       "      <td>NaN</td>\n",
       "      <td>NaN</td>\n",
       "      <td>0</td>\n",
       "      <td>NaN</td>\n",
       "      <td>0</td>\n",
       "      <td>0</td>\n",
       "      <td>0</td>\n",
       "      <td>0</td>\n",
       "    </tr>\n",
       "    <tr>\n",
       "      <th>705</th>\n",
       "      <td>NaN</td>\n",
       "      <td>NaN</td>\n",
       "      <td>NaN</td>\n",
       "      <td>NaN</td>\n",
       "      <td>0</td>\n",
       "      <td>NaN</td>\n",
       "      <td>0</td>\n",
       "      <td>0</td>\n",
       "      <td>0</td>\n",
       "      <td>0</td>\n",
       "    </tr>\n",
       "    <tr>\n",
       "      <th>736</th>\n",
       "      <td>NaN</td>\n",
       "      <td>NaN</td>\n",
       "      <td>NaN</td>\n",
       "      <td>NaN</td>\n",
       "      <td>0</td>\n",
       "      <td>NaN</td>\n",
       "      <td>0</td>\n",
       "      <td>0</td>\n",
       "      <td>0</td>\n",
       "      <td>0</td>\n",
       "    </tr>\n",
       "    <tr>\n",
       "      <th>749</th>\n",
       "      <td>NaN</td>\n",
       "      <td>NaN</td>\n",
       "      <td>NaN</td>\n",
       "      <td>NaN</td>\n",
       "      <td>0</td>\n",
       "      <td>NaN</td>\n",
       "      <td>0</td>\n",
       "      <td>0</td>\n",
       "      <td>0</td>\n",
       "      <td>0</td>\n",
       "    </tr>\n",
       "    <tr>\n",
       "      <th>778</th>\n",
       "      <td>NaN</td>\n",
       "      <td>NaN</td>\n",
       "      <td>NaN</td>\n",
       "      <td>NaN</td>\n",
       "      <td>0</td>\n",
       "      <td>NaN</td>\n",
       "      <td>0</td>\n",
       "      <td>0</td>\n",
       "      <td>0</td>\n",
       "      <td>0</td>\n",
       "    </tr>\n",
       "    <tr>\n",
       "      <th>868</th>\n",
       "      <td>NaN</td>\n",
       "      <td>NaN</td>\n",
       "      <td>NaN</td>\n",
       "      <td>NaN</td>\n",
       "      <td>0</td>\n",
       "      <td>NaN</td>\n",
       "      <td>0</td>\n",
       "      <td>0</td>\n",
       "      <td>0</td>\n",
       "      <td>0</td>\n",
       "    </tr>\n",
       "    <tr>\n",
       "      <th>894</th>\n",
       "      <td>NaN</td>\n",
       "      <td>NaN</td>\n",
       "      <td>NaN</td>\n",
       "      <td>NaN</td>\n",
       "      <td>0</td>\n",
       "      <td>NaN</td>\n",
       "      <td>0</td>\n",
       "      <td>0</td>\n",
       "      <td>0</td>\n",
       "      <td>0</td>\n",
       "    </tr>\n",
       "    <tr>\n",
       "      <th>897</th>\n",
       "      <td>NaN</td>\n",
       "      <td>NaN</td>\n",
       "      <td>NaN</td>\n",
       "      <td>NaN</td>\n",
       "      <td>0</td>\n",
       "      <td>NaN</td>\n",
       "      <td>0</td>\n",
       "      <td>0</td>\n",
       "      <td>0</td>\n",
       "      <td>0</td>\n",
       "    </tr>\n",
       "    <tr>\n",
       "      <th>948</th>\n",
       "      <td>Gd</td>\n",
       "      <td>TA</td>\n",
       "      <td>NaN</td>\n",
       "      <td>Unf</td>\n",
       "      <td>0</td>\n",
       "      <td>Unf</td>\n",
       "      <td>0</td>\n",
       "      <td>936</td>\n",
       "      <td>0</td>\n",
       "      <td>0</td>\n",
       "    </tr>\n",
       "    <tr>\n",
       "      <th>984</th>\n",
       "      <td>NaN</td>\n",
       "      <td>NaN</td>\n",
       "      <td>NaN</td>\n",
       "      <td>NaN</td>\n",
       "      <td>0</td>\n",
       "      <td>NaN</td>\n",
       "      <td>0</td>\n",
       "      <td>0</td>\n",
       "      <td>0</td>\n",
       "      <td>0</td>\n",
       "    </tr>\n",
       "    <tr>\n",
       "      <th>1000</th>\n",
       "      <td>NaN</td>\n",
       "      <td>NaN</td>\n",
       "      <td>NaN</td>\n",
       "      <td>NaN</td>\n",
       "      <td>0</td>\n",
       "      <td>NaN</td>\n",
       "      <td>0</td>\n",
       "      <td>0</td>\n",
       "      <td>0</td>\n",
       "      <td>0</td>\n",
       "    </tr>\n",
       "    <tr>\n",
       "      <th>1011</th>\n",
       "      <td>NaN</td>\n",
       "      <td>NaN</td>\n",
       "      <td>NaN</td>\n",
       "      <td>NaN</td>\n",
       "      <td>0</td>\n",
       "      <td>NaN</td>\n",
       "      <td>0</td>\n",
       "      <td>0</td>\n",
       "      <td>0</td>\n",
       "      <td>0</td>\n",
       "    </tr>\n",
       "    <tr>\n",
       "      <th>1035</th>\n",
       "      <td>NaN</td>\n",
       "      <td>NaN</td>\n",
       "      <td>NaN</td>\n",
       "      <td>NaN</td>\n",
       "      <td>0</td>\n",
       "      <td>NaN</td>\n",
       "      <td>0</td>\n",
       "      <td>0</td>\n",
       "      <td>0</td>\n",
       "      <td>0</td>\n",
       "    </tr>\n",
       "    <tr>\n",
       "      <th>1045</th>\n",
       "      <td>NaN</td>\n",
       "      <td>NaN</td>\n",
       "      <td>NaN</td>\n",
       "      <td>NaN</td>\n",
       "      <td>0</td>\n",
       "      <td>NaN</td>\n",
       "      <td>0</td>\n",
       "      <td>0</td>\n",
       "      <td>0</td>\n",
       "      <td>0</td>\n",
       "    </tr>\n",
       "    <tr>\n",
       "      <th>1048</th>\n",
       "      <td>NaN</td>\n",
       "      <td>NaN</td>\n",
       "      <td>NaN</td>\n",
       "      <td>NaN</td>\n",
       "      <td>0</td>\n",
       "      <td>NaN</td>\n",
       "      <td>0</td>\n",
       "      <td>0</td>\n",
       "      <td>0</td>\n",
       "      <td>0</td>\n",
       "    </tr>\n",
       "    <tr>\n",
       "      <th>1049</th>\n",
       "      <td>NaN</td>\n",
       "      <td>NaN</td>\n",
       "      <td>NaN</td>\n",
       "      <td>NaN</td>\n",
       "      <td>0</td>\n",
       "      <td>NaN</td>\n",
       "      <td>0</td>\n",
       "      <td>0</td>\n",
       "      <td>0</td>\n",
       "      <td>0</td>\n",
       "    </tr>\n",
       "    <tr>\n",
       "      <th>1090</th>\n",
       "      <td>NaN</td>\n",
       "      <td>NaN</td>\n",
       "      <td>NaN</td>\n",
       "      <td>NaN</td>\n",
       "      <td>0</td>\n",
       "      <td>NaN</td>\n",
       "      <td>0</td>\n",
       "      <td>0</td>\n",
       "      <td>0</td>\n",
       "      <td>0</td>\n",
       "    </tr>\n",
       "    <tr>\n",
       "      <th>1179</th>\n",
       "      <td>NaN</td>\n",
       "      <td>NaN</td>\n",
       "      <td>NaN</td>\n",
       "      <td>NaN</td>\n",
       "      <td>0</td>\n",
       "      <td>NaN</td>\n",
       "      <td>0</td>\n",
       "      <td>0</td>\n",
       "      <td>0</td>\n",
       "      <td>0</td>\n",
       "    </tr>\n",
       "    <tr>\n",
       "      <th>1216</th>\n",
       "      <td>NaN</td>\n",
       "      <td>NaN</td>\n",
       "      <td>NaN</td>\n",
       "      <td>NaN</td>\n",
       "      <td>0</td>\n",
       "      <td>NaN</td>\n",
       "      <td>0</td>\n",
       "      <td>0</td>\n",
       "      <td>0</td>\n",
       "      <td>0</td>\n",
       "    </tr>\n",
       "    <tr>\n",
       "      <th>1218</th>\n",
       "      <td>NaN</td>\n",
       "      <td>NaN</td>\n",
       "      <td>NaN</td>\n",
       "      <td>NaN</td>\n",
       "      <td>0</td>\n",
       "      <td>NaN</td>\n",
       "      <td>0</td>\n",
       "      <td>0</td>\n",
       "      <td>0</td>\n",
       "      <td>0</td>\n",
       "    </tr>\n",
       "    <tr>\n",
       "      <th>1232</th>\n",
       "      <td>NaN</td>\n",
       "      <td>NaN</td>\n",
       "      <td>NaN</td>\n",
       "      <td>NaN</td>\n",
       "      <td>0</td>\n",
       "      <td>NaN</td>\n",
       "      <td>0</td>\n",
       "      <td>0</td>\n",
       "      <td>0</td>\n",
       "      <td>0</td>\n",
       "    </tr>\n",
       "    <tr>\n",
       "      <th>1321</th>\n",
       "      <td>NaN</td>\n",
       "      <td>NaN</td>\n",
       "      <td>NaN</td>\n",
       "      <td>NaN</td>\n",
       "      <td>0</td>\n",
       "      <td>NaN</td>\n",
       "      <td>0</td>\n",
       "      <td>0</td>\n",
       "      <td>0</td>\n",
       "      <td>0</td>\n",
       "    </tr>\n",
       "    <tr>\n",
       "      <th>1412</th>\n",
       "      <td>NaN</td>\n",
       "      <td>NaN</td>\n",
       "      <td>NaN</td>\n",
       "      <td>NaN</td>\n",
       "      <td>0</td>\n",
       "      <td>NaN</td>\n",
       "      <td>0</td>\n",
       "      <td>0</td>\n",
       "      <td>0</td>\n",
       "      <td>0</td>\n",
       "    </tr>\n",
       "  </tbody>\n",
       "</table>\n",
       "</div>"
      ],
      "text/plain": [
       "     BsmtQual BsmtCond BsmtExposure BsmtFinType1  BsmtFinSF1 BsmtFinType2  \\\n",
       "17        NaN      NaN          NaN          NaN           0          NaN   \n",
       "39        NaN      NaN          NaN          NaN           0          NaN   \n",
       "90        NaN      NaN          NaN          NaN           0          NaN   \n",
       "102       NaN      NaN          NaN          NaN           0          NaN   \n",
       "156       NaN      NaN          NaN          NaN           0          NaN   \n",
       "182       NaN      NaN          NaN          NaN           0          NaN   \n",
       "259       NaN      NaN          NaN          NaN           0          NaN   \n",
       "332        Gd       TA           No          GLQ        1124          NaN   \n",
       "342       NaN      NaN          NaN          NaN           0          NaN   \n",
       "362       NaN      NaN          NaN          NaN           0          NaN   \n",
       "371       NaN      NaN          NaN          NaN           0          NaN   \n",
       "392       NaN      NaN          NaN          NaN           0          NaN   \n",
       "520       NaN      NaN          NaN          NaN           0          NaN   \n",
       "532       NaN      NaN          NaN          NaN           0          NaN   \n",
       "533       NaN      NaN          NaN          NaN           0          NaN   \n",
       "553       NaN      NaN          NaN          NaN           0          NaN   \n",
       "646       NaN      NaN          NaN          NaN           0          NaN   \n",
       "705       NaN      NaN          NaN          NaN           0          NaN   \n",
       "736       NaN      NaN          NaN          NaN           0          NaN   \n",
       "749       NaN      NaN          NaN          NaN           0          NaN   \n",
       "778       NaN      NaN          NaN          NaN           0          NaN   \n",
       "868       NaN      NaN          NaN          NaN           0          NaN   \n",
       "894       NaN      NaN          NaN          NaN           0          NaN   \n",
       "897       NaN      NaN          NaN          NaN           0          NaN   \n",
       "948        Gd       TA          NaN          Unf           0          Unf   \n",
       "984       NaN      NaN          NaN          NaN           0          NaN   \n",
       "1000      NaN      NaN          NaN          NaN           0          NaN   \n",
       "1011      NaN      NaN          NaN          NaN           0          NaN   \n",
       "1035      NaN      NaN          NaN          NaN           0          NaN   \n",
       "1045      NaN      NaN          NaN          NaN           0          NaN   \n",
       "1048      NaN      NaN          NaN          NaN           0          NaN   \n",
       "1049      NaN      NaN          NaN          NaN           0          NaN   \n",
       "1090      NaN      NaN          NaN          NaN           0          NaN   \n",
       "1179      NaN      NaN          NaN          NaN           0          NaN   \n",
       "1216      NaN      NaN          NaN          NaN           0          NaN   \n",
       "1218      NaN      NaN          NaN          NaN           0          NaN   \n",
       "1232      NaN      NaN          NaN          NaN           0          NaN   \n",
       "1321      NaN      NaN          NaN          NaN           0          NaN   \n",
       "1412      NaN      NaN          NaN          NaN           0          NaN   \n",
       "\n",
       "      BsmtFinSF2  BsmtUnfSF  BsmtFullBath  BsmtHalfBath  \n",
       "17             0          0             0             0  \n",
       "39             0          0             0             0  \n",
       "90             0          0             0             0  \n",
       "102            0          0             0             0  \n",
       "156            0          0             0             0  \n",
       "182            0          0             0             0  \n",
       "259            0          0             0             0  \n",
       "332          479       1603             1             0  \n",
       "342            0          0             0             0  \n",
       "362            0          0             0             0  \n",
       "371            0          0             0             0  \n",
       "392            0          0             0             0  \n",
       "520            0          0             0             0  \n",
       "532            0          0             0             0  \n",
       "533            0          0             0             0  \n",
       "553            0          0             0             0  \n",
       "646            0          0             0             0  \n",
       "705            0          0             0             0  \n",
       "736            0          0             0             0  \n",
       "749            0          0             0             0  \n",
       "778            0          0             0             0  \n",
       "868            0          0             0             0  \n",
       "894            0          0             0             0  \n",
       "897            0          0             0             0  \n",
       "948            0        936             0             0  \n",
       "984            0          0             0             0  \n",
       "1000           0          0             0             0  \n",
       "1011           0          0             0             0  \n",
       "1035           0          0             0             0  \n",
       "1045           0          0             0             0  \n",
       "1048           0          0             0             0  \n",
       "1049           0          0             0             0  \n",
       "1090           0          0             0             0  \n",
       "1179           0          0             0             0  \n",
       "1216           0          0             0             0  \n",
       "1218           0          0             0             0  \n",
       "1232           0          0             0             0  \n",
       "1321           0          0             0             0  \n",
       "1412           0          0             0             0  "
      ]
     },
     "execution_count": 15,
     "metadata": {},
     "output_type": "execute_result"
    }
   ],
   "source": [
    "df_basement=df[[\"BsmtQual\",\"BsmtCond\",\"BsmtExposure\",\"BsmtFinType1\",\"BsmtFinSF1\",\"BsmtFinType2\",\"BsmtFinSF2\",\"BsmtUnfSF\",\"BsmtFullBath\",\"BsmtHalfBath\"]]\n",
    "\n",
    "df_basement[df_basement.isnull().any(axis=1)]"
   ]
  },
  {
   "cell_type": "markdown",
   "metadata": {
    "id": "Q7DXqbgsBrg4"
   },
   "source": [
    "Modificamos el dataset de forma correcta directamente ya que son solo 2 variables para tratar directamente en conjunto de BsmtFinType2 y BsmtExposure donde se les asigna la categoría específica de 'No', ya que tienen sotano pero se considera que no disponen de esa característica y por lo tanto debe ser marcado como tal."
   ]
  },
  {
   "cell_type": "code",
   "execution_count": 16,
   "metadata": {
    "id": "P9L-J114BtoI"
   },
   "outputs": [],
   "source": [
    "#Reemplazar variables concretas\n",
    "df['BsmtFinType2'][332]='No'\n",
    "df['BsmtExposure'][948]='No'"
   ]
  },
  {
   "cell_type": "markdown",
   "metadata": {
    "id": "Mucir9he2aNR"
   },
   "source": [
    "En el resto de casos, donde el sotano no esta entrado se asume que no tienen y por lo tanto las variables relacionadas con el sotano se van a tratar como las de garaje, reemplazando los NaN por un nuevo tipo llamado 'None' como en el caso de los garajes."
   ]
  },
  {
   "cell_type": "code",
   "execution_count": 17,
   "metadata": {
    "id": "KA0iCkc82TIG"
   },
   "outputs": [],
   "source": [
    "# Los valores faltantes en las variables Bsmnt implican que no hay ningun sotano.\n",
    "df[\"BsmtFinType2\"].fillna(\"None\",inplace=True)\n",
    "df[\"BsmtExposure\"].fillna(\"None\",inplace=True)\n",
    "df[\"BsmtQual\"].fillna(\"None\",inplace=True)\n",
    "df[\"BsmtFinType1\"].fillna(\"None\",inplace=True)\n",
    "df[\"BsmtCond\"].fillna(\"None\",inplace=True)"
   ]
  },
  {
   "cell_type": "markdown",
   "metadata": {
    "id": "v9XbxmPKB874"
   },
   "source": [
    "En este punto ya se han corregido la mayoría de valores missing, pero aún faltan unos pocos. Los proximos que se van a tratar son los relacionados con la mapostería.\n",
    "\n",
    "En este caso no hay ninguna relación que pueda indicar el tipo de material ni el area relacionadas con la mapostería, por lo tanto, se decide asumir que si los valores faltan no hay mapostería, y por lo tanto se reemplazan los missing por el tipo llamado \"None\" y el area se considera que es 0 ya que al no existir mapostería tampoco habría ninguna area a tener en cuenta para ello."
   ]
  },
  {
   "cell_type": "code",
   "execution_count": 18,
   "metadata": {
    "id": "DmCbqHTjCAnF"
   },
   "outputs": [],
   "source": [
    "# Las variables con valores nulo en la maposteria impilcan que probablemente no hay maposteria, por lo que se llena con ...\n",
    "df[\"MasVnrType\"].fillna(\"None\",inplace=True)\n",
    "df[\"MasVnrArea\"].fillna(0.0,inplace=True)"
   ]
  },
  {
   "cell_type": "markdown",
   "metadata": {
    "id": "ZwQNuZM7CBAJ"
   },
   "source": [
    "En este punto solo queda el atributo llamado \"Electrical\", en este caso solo es una única variable, y observando como se reparten los distintos tipos se puede ver que la gran mayoría es del tipo SBrkr y por lo tanto asignamos este tipo a la variable faltante."
   ]
  },
  {
   "cell_type": "code",
   "execution_count": 19,
   "metadata": {
    "id": "SLPKr2ewCBgt"
   },
   "outputs": [],
   "source": [
    "# El valor restante en electricidad, hemos puesto el sistema estandard pues es el mas comun\n",
    "df[\"Electrical\"].fillna(\"SBrkr\", inplace=True)"
   ]
  },
  {
   "cell_type": "markdown",
   "metadata": {
    "id": "FWQ40kOUCB1m"
   },
   "source": [
    "Por último se revisa que no exista ningún valor del tipo NaN en ninguna de las variables."
   ]
  },
  {
   "cell_type": "code",
   "execution_count": 20,
   "metadata": {
    "colab": {
     "base_uri": "https://localhost:8080/"
    },
    "id": "JcJNGiYI2suQ",
    "outputId": "9f9cbd0c-7ac1-4b08-83d9-dd9c3de46f37"
   },
   "outputs": [
    {
     "data": {
      "text/plain": [
       "MSSubClass      0.0\n",
       "MSZoning        0.0\n",
       "Fireplaces      0.0\n",
       "Functional      0.0\n",
       "TotRmsAbvGrd    0.0\n",
       "KitchenQual     0.0\n",
       "KitchenAbvGr    0.0\n",
       "BedroomAbvGr    0.0\n",
       "HalfBath        0.0\n",
       "FullBath        0.0\n",
       "dtype: float64"
      ]
     },
     "execution_count": 20,
     "metadata": {},
     "output_type": "execute_result"
    }
   ],
   "source": [
    "(((df.isnull().sum()/ len(df)).sort_values(ascending=False)[:10])*100)"
   ]
  },
  {
   "cell_type": "markdown",
   "metadata": {
    "id": "HiUpXTxKSE4r"
   },
   "source": [
    "# 4. Problema de regresión"
   ]
  },
  {
   "cell_type": "markdown",
   "metadata": {
    "id": "lBYk2AupRKsJ"
   },
   "source": [
    "El problema de regresión es el primero que se va a afrontar. En este caso se realizará la predicción de la variable de 'SalePrice' con arbol de decisión y con random forest para poder comparar su desempeño. \n",
    "\n",
    "En este punto, sería interesante realizar una normalización de los datos para mejorar los resultados, ya que algunas de las variables y sobretodo la variable de interes tienen valores altos. Un punto importante es que esta normalización requiere de que se pueda deshacer para comprovar los resultados de las predicciones. En este caso se ha decidido no realizarla ya que el punto de la actividad es comprar los árboles de decisión frente a los random forest, y sin hacer la normalización ya se puede realizar."
   ]
  },
  {
   "cell_type": "code",
   "execution_count": 21,
   "metadata": {},
   "outputs": [
    {
     "data": {
      "text/html": [
       "<div>\n",
       "<style scoped>\n",
       "    .dataframe tbody tr th:only-of-type {\n",
       "        vertical-align: middle;\n",
       "    }\n",
       "\n",
       "    .dataframe tbody tr th {\n",
       "        vertical-align: top;\n",
       "    }\n",
       "\n",
       "    .dataframe thead th {\n",
       "        text-align: right;\n",
       "    }\n",
       "</style>\n",
       "<table border=\"1\" class=\"dataframe\">\n",
       "  <thead>\n",
       "    <tr style=\"text-align: right;\">\n",
       "      <th></th>\n",
       "      <th>MSSubClass</th>\n",
       "      <th>MSZoning</th>\n",
       "      <th>LotArea</th>\n",
       "      <th>Street</th>\n",
       "      <th>LotShape</th>\n",
       "      <th>LandContour</th>\n",
       "      <th>Utilities</th>\n",
       "      <th>LotConfig</th>\n",
       "      <th>LandSlope</th>\n",
       "      <th>Neighborhood</th>\n",
       "      <th>...</th>\n",
       "      <th>OpenPorchSF</th>\n",
       "      <th>EnclosedPorch</th>\n",
       "      <th>3SsnPorch</th>\n",
       "      <th>ScreenPorch</th>\n",
       "      <th>PoolArea</th>\n",
       "      <th>MiscVal</th>\n",
       "      <th>MoSold</th>\n",
       "      <th>YrSold</th>\n",
       "      <th>SaleType</th>\n",
       "      <th>SaleCondition</th>\n",
       "    </tr>\n",
       "  </thead>\n",
       "  <tbody>\n",
       "    <tr>\n",
       "      <th>0</th>\n",
       "      <td>60</td>\n",
       "      <td>RL</td>\n",
       "      <td>8450</td>\n",
       "      <td>Pave</td>\n",
       "      <td>Reg</td>\n",
       "      <td>Lvl</td>\n",
       "      <td>AllPub</td>\n",
       "      <td>Inside</td>\n",
       "      <td>Gtl</td>\n",
       "      <td>CollgCr</td>\n",
       "      <td>...</td>\n",
       "      <td>61</td>\n",
       "      <td>0</td>\n",
       "      <td>0</td>\n",
       "      <td>0</td>\n",
       "      <td>0</td>\n",
       "      <td>0</td>\n",
       "      <td>2</td>\n",
       "      <td>2008</td>\n",
       "      <td>WD</td>\n",
       "      <td>Normal</td>\n",
       "    </tr>\n",
       "    <tr>\n",
       "      <th>1</th>\n",
       "      <td>20</td>\n",
       "      <td>RL</td>\n",
       "      <td>9600</td>\n",
       "      <td>Pave</td>\n",
       "      <td>Reg</td>\n",
       "      <td>Lvl</td>\n",
       "      <td>AllPub</td>\n",
       "      <td>FR2</td>\n",
       "      <td>Gtl</td>\n",
       "      <td>Veenker</td>\n",
       "      <td>...</td>\n",
       "      <td>0</td>\n",
       "      <td>0</td>\n",
       "      <td>0</td>\n",
       "      <td>0</td>\n",
       "      <td>0</td>\n",
       "      <td>0</td>\n",
       "      <td>5</td>\n",
       "      <td>2007</td>\n",
       "      <td>WD</td>\n",
       "      <td>Normal</td>\n",
       "    </tr>\n",
       "    <tr>\n",
       "      <th>2</th>\n",
       "      <td>60</td>\n",
       "      <td>RL</td>\n",
       "      <td>11250</td>\n",
       "      <td>Pave</td>\n",
       "      <td>IR1</td>\n",
       "      <td>Lvl</td>\n",
       "      <td>AllPub</td>\n",
       "      <td>Inside</td>\n",
       "      <td>Gtl</td>\n",
       "      <td>CollgCr</td>\n",
       "      <td>...</td>\n",
       "      <td>42</td>\n",
       "      <td>0</td>\n",
       "      <td>0</td>\n",
       "      <td>0</td>\n",
       "      <td>0</td>\n",
       "      <td>0</td>\n",
       "      <td>9</td>\n",
       "      <td>2008</td>\n",
       "      <td>WD</td>\n",
       "      <td>Normal</td>\n",
       "    </tr>\n",
       "    <tr>\n",
       "      <th>3</th>\n",
       "      <td>70</td>\n",
       "      <td>RL</td>\n",
       "      <td>9550</td>\n",
       "      <td>Pave</td>\n",
       "      <td>IR1</td>\n",
       "      <td>Lvl</td>\n",
       "      <td>AllPub</td>\n",
       "      <td>Corner</td>\n",
       "      <td>Gtl</td>\n",
       "      <td>Crawfor</td>\n",
       "      <td>...</td>\n",
       "      <td>35</td>\n",
       "      <td>272</td>\n",
       "      <td>0</td>\n",
       "      <td>0</td>\n",
       "      <td>0</td>\n",
       "      <td>0</td>\n",
       "      <td>2</td>\n",
       "      <td>2006</td>\n",
       "      <td>WD</td>\n",
       "      <td>Abnorml</td>\n",
       "    </tr>\n",
       "    <tr>\n",
       "      <th>4</th>\n",
       "      <td>60</td>\n",
       "      <td>RL</td>\n",
       "      <td>14260</td>\n",
       "      <td>Pave</td>\n",
       "      <td>IR1</td>\n",
       "      <td>Lvl</td>\n",
       "      <td>AllPub</td>\n",
       "      <td>FR2</td>\n",
       "      <td>Gtl</td>\n",
       "      <td>NoRidge</td>\n",
       "      <td>...</td>\n",
       "      <td>84</td>\n",
       "      <td>0</td>\n",
       "      <td>0</td>\n",
       "      <td>0</td>\n",
       "      <td>0</td>\n",
       "      <td>0</td>\n",
       "      <td>12</td>\n",
       "      <td>2008</td>\n",
       "      <td>WD</td>\n",
       "      <td>Normal</td>\n",
       "    </tr>\n",
       "    <tr>\n",
       "      <th>...</th>\n",
       "      <td>...</td>\n",
       "      <td>...</td>\n",
       "      <td>...</td>\n",
       "      <td>...</td>\n",
       "      <td>...</td>\n",
       "      <td>...</td>\n",
       "      <td>...</td>\n",
       "      <td>...</td>\n",
       "      <td>...</td>\n",
       "      <td>...</td>\n",
       "      <td>...</td>\n",
       "      <td>...</td>\n",
       "      <td>...</td>\n",
       "      <td>...</td>\n",
       "      <td>...</td>\n",
       "      <td>...</td>\n",
       "      <td>...</td>\n",
       "      <td>...</td>\n",
       "      <td>...</td>\n",
       "      <td>...</td>\n",
       "      <td>...</td>\n",
       "    </tr>\n",
       "    <tr>\n",
       "      <th>1455</th>\n",
       "      <td>60</td>\n",
       "      <td>RL</td>\n",
       "      <td>7917</td>\n",
       "      <td>Pave</td>\n",
       "      <td>Reg</td>\n",
       "      <td>Lvl</td>\n",
       "      <td>AllPub</td>\n",
       "      <td>Inside</td>\n",
       "      <td>Gtl</td>\n",
       "      <td>Gilbert</td>\n",
       "      <td>...</td>\n",
       "      <td>40</td>\n",
       "      <td>0</td>\n",
       "      <td>0</td>\n",
       "      <td>0</td>\n",
       "      <td>0</td>\n",
       "      <td>0</td>\n",
       "      <td>8</td>\n",
       "      <td>2007</td>\n",
       "      <td>WD</td>\n",
       "      <td>Normal</td>\n",
       "    </tr>\n",
       "    <tr>\n",
       "      <th>1456</th>\n",
       "      <td>20</td>\n",
       "      <td>RL</td>\n",
       "      <td>13175</td>\n",
       "      <td>Pave</td>\n",
       "      <td>Reg</td>\n",
       "      <td>Lvl</td>\n",
       "      <td>AllPub</td>\n",
       "      <td>Inside</td>\n",
       "      <td>Gtl</td>\n",
       "      <td>NWAmes</td>\n",
       "      <td>...</td>\n",
       "      <td>0</td>\n",
       "      <td>0</td>\n",
       "      <td>0</td>\n",
       "      <td>0</td>\n",
       "      <td>0</td>\n",
       "      <td>0</td>\n",
       "      <td>2</td>\n",
       "      <td>2010</td>\n",
       "      <td>WD</td>\n",
       "      <td>Normal</td>\n",
       "    </tr>\n",
       "    <tr>\n",
       "      <th>1457</th>\n",
       "      <td>70</td>\n",
       "      <td>RL</td>\n",
       "      <td>9042</td>\n",
       "      <td>Pave</td>\n",
       "      <td>Reg</td>\n",
       "      <td>Lvl</td>\n",
       "      <td>AllPub</td>\n",
       "      <td>Inside</td>\n",
       "      <td>Gtl</td>\n",
       "      <td>Crawfor</td>\n",
       "      <td>...</td>\n",
       "      <td>60</td>\n",
       "      <td>0</td>\n",
       "      <td>0</td>\n",
       "      <td>0</td>\n",
       "      <td>0</td>\n",
       "      <td>2500</td>\n",
       "      <td>5</td>\n",
       "      <td>2010</td>\n",
       "      <td>WD</td>\n",
       "      <td>Normal</td>\n",
       "    </tr>\n",
       "    <tr>\n",
       "      <th>1458</th>\n",
       "      <td>20</td>\n",
       "      <td>RL</td>\n",
       "      <td>9717</td>\n",
       "      <td>Pave</td>\n",
       "      <td>Reg</td>\n",
       "      <td>Lvl</td>\n",
       "      <td>AllPub</td>\n",
       "      <td>Inside</td>\n",
       "      <td>Gtl</td>\n",
       "      <td>NAmes</td>\n",
       "      <td>...</td>\n",
       "      <td>0</td>\n",
       "      <td>112</td>\n",
       "      <td>0</td>\n",
       "      <td>0</td>\n",
       "      <td>0</td>\n",
       "      <td>0</td>\n",
       "      <td>4</td>\n",
       "      <td>2010</td>\n",
       "      <td>WD</td>\n",
       "      <td>Normal</td>\n",
       "    </tr>\n",
       "    <tr>\n",
       "      <th>1459</th>\n",
       "      <td>20</td>\n",
       "      <td>RL</td>\n",
       "      <td>9937</td>\n",
       "      <td>Pave</td>\n",
       "      <td>Reg</td>\n",
       "      <td>Lvl</td>\n",
       "      <td>AllPub</td>\n",
       "      <td>Inside</td>\n",
       "      <td>Gtl</td>\n",
       "      <td>Edwards</td>\n",
       "      <td>...</td>\n",
       "      <td>68</td>\n",
       "      <td>0</td>\n",
       "      <td>0</td>\n",
       "      <td>0</td>\n",
       "      <td>0</td>\n",
       "      <td>0</td>\n",
       "      <td>6</td>\n",
       "      <td>2008</td>\n",
       "      <td>WD</td>\n",
       "      <td>Normal</td>\n",
       "    </tr>\n",
       "  </tbody>\n",
       "</table>\n",
       "<p>1460 rows × 71 columns</p>\n",
       "</div>"
      ],
      "text/plain": [
       "      MSSubClass MSZoning  LotArea Street LotShape LandContour Utilities  \\\n",
       "0             60       RL     8450   Pave      Reg         Lvl    AllPub   \n",
       "1             20       RL     9600   Pave      Reg         Lvl    AllPub   \n",
       "2             60       RL    11250   Pave      IR1         Lvl    AllPub   \n",
       "3             70       RL     9550   Pave      IR1         Lvl    AllPub   \n",
       "4             60       RL    14260   Pave      IR1         Lvl    AllPub   \n",
       "...          ...      ...      ...    ...      ...         ...       ...   \n",
       "1455          60       RL     7917   Pave      Reg         Lvl    AllPub   \n",
       "1456          20       RL    13175   Pave      Reg         Lvl    AllPub   \n",
       "1457          70       RL     9042   Pave      Reg         Lvl    AllPub   \n",
       "1458          20       RL     9717   Pave      Reg         Lvl    AllPub   \n",
       "1459          20       RL     9937   Pave      Reg         Lvl    AllPub   \n",
       "\n",
       "     LotConfig LandSlope Neighborhood  ... OpenPorchSF EnclosedPorch  \\\n",
       "0       Inside       Gtl      CollgCr  ...          61             0   \n",
       "1          FR2       Gtl      Veenker  ...           0             0   \n",
       "2       Inside       Gtl      CollgCr  ...          42             0   \n",
       "3       Corner       Gtl      Crawfor  ...          35           272   \n",
       "4          FR2       Gtl      NoRidge  ...          84             0   \n",
       "...        ...       ...          ...  ...         ...           ...   \n",
       "1455    Inside       Gtl      Gilbert  ...          40             0   \n",
       "1456    Inside       Gtl       NWAmes  ...           0             0   \n",
       "1457    Inside       Gtl      Crawfor  ...          60             0   \n",
       "1458    Inside       Gtl        NAmes  ...           0           112   \n",
       "1459    Inside       Gtl      Edwards  ...          68             0   \n",
       "\n",
       "     3SsnPorch ScreenPorch  PoolArea  MiscVal  MoSold YrSold SaleType  \\\n",
       "0            0           0         0        0       2   2008       WD   \n",
       "1            0           0         0        0       5   2007       WD   \n",
       "2            0           0         0        0       9   2008       WD   \n",
       "3            0           0         0        0       2   2006       WD   \n",
       "4            0           0         0        0      12   2008       WD   \n",
       "...        ...         ...       ...      ...     ...    ...      ...   \n",
       "1455         0           0         0        0       8   2007       WD   \n",
       "1456         0           0         0        0       2   2010       WD   \n",
       "1457         0           0         0     2500       5   2010       WD   \n",
       "1458         0           0         0        0       4   2010       WD   \n",
       "1459         0           0         0        0       6   2008       WD   \n",
       "\n",
       "     SaleCondition  \n",
       "0           Normal  \n",
       "1           Normal  \n",
       "2           Normal  \n",
       "3          Abnorml  \n",
       "4           Normal  \n",
       "...            ...  \n",
       "1455        Normal  \n",
       "1456        Normal  \n",
       "1457        Normal  \n",
       "1458        Normal  \n",
       "1459        Normal  \n",
       "\n",
       "[1460 rows x 71 columns]"
      ]
     },
     "execution_count": 21,
     "metadata": {},
     "output_type": "execute_result"
    }
   ],
   "source": [
    "df.iloc[:,:-1]"
   ]
  },
  {
   "cell_type": "code",
   "execution_count": 22,
   "metadata": {
    "id": "ZfyMASgU33D2"
   },
   "outputs": [],
   "source": [
    "X = df.iloc[:,:-1]\n",
    "y = df[\"SalePrice\"]"
   ]
  },
  {
   "cell_type": "markdown",
   "metadata": {
    "id": "SBRsVPPTT9jf"
   },
   "source": [
    "Se crea una funcion para mostrar los valores de los distintos errores que tendra la predicción realizada en el problema de regresión."
   ]
  },
  {
   "cell_type": "code",
   "execution_count": 23,
   "metadata": {
    "id": "LVdsLSeqUCLd"
   },
   "outputs": [],
   "source": [
    "def regresion(X_train, X_test, y_train, y_test, regresor, metricas_error_off=False):\n",
    "    regresor.fit(X_train, y_train)\n",
    "    \n",
    "    predicciones = regresor.predict(X_test)\n",
    "    \n",
    "    if not(metricas_error_off):\n",
    "        print(f\"MSE: {mean_squared_error(y_test, predicciones)}\")\n",
    "        print(f\"MAE: {mean_absolute_error(y_test, predicciones)}\")\n",
    "        print(f\"RMSE: {mean_squared_error(y_test, predicciones, squared=False)}\")\n",
    "        print(f\"RMSLE: {np.sqrt(mean_squared_log_error(y_test, predicciones))}\")\n",
    "    \n",
    "    return predicciones"
   ]
  },
  {
   "cell_type": "markdown",
   "metadata": {
    "id": "Fks4qYNmZhul"
   },
   "source": [
    "En python, para entrenar un modelo para un problema de regresión no se pueden utilizar variables cualitativas, como estas son de interés, se realiza una función con la que transformar estas variables cualitativas en variables numéricas. Para ello se crean nuevas columnas con cada possible valor de las variables cualitativas y en cada fila se indica de forma booleana si la classe esa corresponde o no a esa fila. Una cosa a remarcar es que en la conversión se elimina una columna de cada una de las cualitativas, ya que el no hacerlo podría dar lugar a problemas."
   ]
  },
  {
   "cell_type": "code",
   "execution_count": 24,
   "metadata": {
    "id": "y2ejKmtqZpt0"
   },
   "outputs": [],
   "source": [
    "def cual2num(df_,feature):\n",
    "    df = df_.copy(deep=True)\n",
    "    dummy = pd.get_dummies(df[feature])\n",
    "    dummy = dummy.drop(dummy.columns[-1],axis=1)\n",
    "    df = pd.concat([df,dummy],axis=1)\n",
    "    return df.drop(feature, axis=1)\n",
    "\n",
    "#Se obtienen los nuevos datos catagoricos despues de eliminar las distintas columnas\n",
    "new_categoricos = [column for column in df.columns if df.dtypes[column] == 'object']"
   ]
  },
  {
   "cell_type": "markdown",
   "metadata": {
    "id": "hajsjj-q3Byx"
   },
   "source": [
    "En este punto se separan los conjuntos de datos de entrenamiento de los de test, para ello se utiliza un 80% de los datos para el entrenamiento y el 20% restante corresponden a los de test. Estos datos se van a usar tento para el arbol de decisión como para el random forest, de esta forma se evitará cualquier possible cambio en el error de predicción debido a la separación de los datos."
   ]
  },
  {
   "cell_type": "code",
   "execution_count": 25,
   "metadata": {
    "id": "Dd2oe-P93BQN"
   },
   "outputs": [],
   "source": [
    "X_train, X_test, y_train, y_test = train_test_split(cual2num(X,new_categoricos), y, test_size = 0.2 ,random_state = 42)"
   ]
  },
  {
   "cell_type": "markdown",
   "metadata": {
    "id": "T4l9v6oJSGTq"
   },
   "source": [
    "##### Arbol de decisión"
   ]
  },
  {
   "cell_type": "markdown",
   "metadata": {},
   "source": [
    "Primero de todo, se crea el arbol de decision completo y se muestra su representación gráfica para comprovar si es necesario hacer la poda."
   ]
  },
  {
   "cell_type": "code",
   "execution_count": 26,
   "metadata": {
    "colab": {
     "base_uri": "https://localhost:8080/",
     "height": 247
    },
    "id": "RlOIRiK756oW",
    "outputId": "84fbe1c8-598c-43f5-e9ef-193b6aaab1aa"
   },
   "outputs": [
    {
     "data": {
      "image/png": "[encoded data removed]",
      "text/plain": [
       "<Figure size 432x288 with 1 Axes>"
      ]
     },
     "metadata": {
      "needs_background": "light"
     },
     "output_type": "display_data"
    }
   ],
   "source": [
    "dt = tree.DecisionTreeRegressor(random_state=42)\n",
    "\n",
    "fig = plt.figure()\n",
    "dt.fit(X_train, y_train)\n",
    "tree.plot_tree(dt);"
   ]
  },
  {
   "cell_type": "markdown",
   "metadata": {
    "id": "W03UxqTjVHXb"
   },
   "source": [
    "Solo con observar la imagen del arbol ya se puede ver que es necesario podarlo porque es demasiado grande y esto provocaría overfitting."
   ]
  },
  {
   "cell_type": "markdown",
   "metadata": {
    "id": "_OniXeAvVhDb"
   },
   "source": [
    "Para realizar la poda del arbol, primero se tiene que obtener la profundidad más optima para el arbol, para ello se representa en una gráfica el score del arbol obtenido según los niveles usados para entrenarlo. "
   ]
  },
  {
   "cell_type": "code",
   "execution_count": 27,
   "metadata": {},
   "outputs": [
    {
     "data": {
      "image/png": "[encoded data removed]",
      "text/plain": [
       "<Figure size 432x288 with 1 Axes>"
      ]
     },
     "metadata": {
      "needs_background": "light"
     },
     "output_type": "display_data"
    }
   ],
   "source": [
    "scores = []\n",
    "num_variables = len(list(df))\n",
    "n_niveles = range(1, num_variables + 1)\n",
    "for n in n_niveles:\n",
    "    dt.set_params(max_depth = n)\n",
    "    dt.fit(X_train, y_train)\n",
    "    scores.append(dt.score(X_test, y_test))\n",
    "    \n",
    "plt.title(\"Score según nivel del árbol\")\n",
    "plt.xlabel(\"Número de niveles\")\n",
    "plt.ylabel(\"Score\")\n",
    "plt.plot(n_niveles, scores)\n",
    "plt.show()"
   ]
  },
  {
   "cell_type": "markdown",
   "metadata": {
    "id": "Lj0PUc2bWUln"
   },
   "source": [
    "Como indica la comprovación, el valor de profundidad igual a 8 es donde se obtiene el valor máximo de score y se usa este valor para crear de nuevo el arbol podado con profundiad de valor 8 niveles. Aunque no es estable hasta la profundida crecana a 28, el nivel 8 tiene el mismo puntuaje, por lo tanto el arbol tendrá practicamente la misma efectividad aunque el resultado pueda ser un poco peor con según que datos de test, pero dejandolo con 28 niveles el arbol es dificilmente interpretable."
   ]
  },
  {
   "cell_type": "code",
   "execution_count": 28,
   "metadata": {
    "colab": {
     "base_uri": "https://localhost:8080/",
     "height": 247
    },
    "id": "rmdR2PHMWd3D",
    "outputId": "f01b954b-f262-4883-86fc-57b3d4bc45bb"
   },
   "outputs": [
    {
     "data": {
      "image/png": "[encoded data removed]",
      "text/plain": [
       "<Figure size 432x288 with 1 Axes>"
      ]
     },
     "metadata": {
      "needs_background": "light"
     },
     "output_type": "display_data"
    }
   ],
   "source": [
    "dt = tree.DecisionTreeRegressor(random_state=42, max_depth = 8)\n",
    "\n",
    "fig = plt.figure()\n",
    "dt.fit(X_train, y_train)\n",
    "tree.plot_tree(dt);"
   ]
  },
  {
   "cell_type": "markdown",
   "metadata": {
    "id": "Xwxyp7i0Wjln"
   },
   "source": [
    "Se puede observar como el arbol ha mejorado bastante y es mucho más interpretable, este árbol ya sirve para realizar predicciones genericas.\n",
    "\n",
    "En este caso se muestran los distintos errores de predicción para poder evaluar lo bueno que es el modelo entrenado."
   ]
  },
  {
   "cell_type": "code",
   "execution_count": 29,
   "metadata": {
    "colab": {
     "base_uri": "https://localhost:8080/"
    },
    "id": "lTZCG5ARXJ-d",
    "outputId": "dc30b958-8a20-417c-fa74-faaed8fa522a"
   },
   "outputs": [
    {
     "name": "stdout",
     "output_type": "stream",
     "text": [
      "MSE: 1369737813.635676\n",
      "MAE: 23660.747644963725\n",
      "RMSE: 37009.96911152016\n",
      "RMSLE: 0.20069722958436367\n"
     ]
    }
   ],
   "source": [
    "predicciones=regresion(X_train, X_test, y_train, y_test, dt);"
   ]
  },
  {
   "cell_type": "markdown",
   "metadata": {
    "id": "h7OkQoSSfdYC"
   },
   "source": [
    "Como se puede apreciar, los errores tienen valores bastante grandes aparte del RMSLE, esto es debido a que los precios de las casas son valores muy altos, y un error que en estos rangos puede ser proporcionalmente pequeño, hace que sean valores muy altos.\n",
    "\n",
    "Para comparar se utilizará la metrica del error medio cuadrático (MSE). En este caso tiene un valor relativamente grande, ya que tratando con precios de las viviendas, este error aumenta en gran cantidad. Para comprovar lo correcto que es el árbol, se representa el gráfico de dispersión de los valores reales contra las predicciones."
   ]
  },
  {
   "cell_type": "code",
   "execution_count": 30,
   "metadata": {},
   "outputs": [
    {
     "data": {
      "image/png": "[encoded data removed]",
      "text/plain": [
       "<Figure size 432x288 with 1 Axes>"
      ]
     },
     "metadata": {
      "needs_background": "light"
     },
     "output_type": "display_data"
    }
   ],
   "source": [
    "# Generar plot basado en la distribución de datos de prueba y datos de predicción\n",
    "def dibujar_dispersion(real, predicted):\n",
    "    plt.scatter(real, predicted, s=20, edgecolor=\"black\", c=\"blue\", label=\"Precios\")\n",
    "    plt.xlabel(\"Precios reales\")\n",
    "    plt.ylabel(\"Precios predecidos\")\n",
    "    plt.legend()\n",
    "    plt.show()\n",
    "    \n",
    "dibujar_dispersion(y_test, predicciones)"
   ]
  },
  {
   "cell_type": "markdown",
   "metadata": {},
   "source": [
    "Como se puede ver, los valores se encuentran bastante centrados en la diagonal, por lo tanto se confirma que el modelo de arbol es correcto."
   ]
  },
  {
   "cell_type": "markdown",
   "metadata": {
    "id": "-ovQjQneSHtM"
   },
   "source": [
    "##### Random forest"
   ]
  },
  {
   "cell_type": "markdown",
   "metadata": {
    "id": "xAkPXJDxhTO1"
   },
   "source": [
    "Para realizar la comparación entre el modelo de arbol de decisión y el de random forest, se crean distintos bosques utilizando los mismos conjuntos de entrenamiento y test que para el arbol de decisión y cambiando el número de arboles entre ellos para encontrar el valor más óptimo."
   ]
  },
  {
   "cell_type": "code",
   "execution_count": 31,
   "metadata": {},
   "outputs": [
    {
     "data": {
      "image/png": "[encoded data removed]",
      "text/plain": [
       "<Figure size 432x288 with 1 Axes>"
      ]
     },
     "metadata": {
      "needs_background": "light"
     },
     "output_type": "display_data"
    }
   ],
   "source": [
    "rf = RandomForestRegressor(random_state=42, max_features='auto')\n",
    "\n",
    "scores = []\n",
    "for n in np.arange(1,200,10):\n",
    "    rf.set_params(n_estimators=n)\n",
    "    rf.fit(X_train, y_train)\n",
    "    scores.append(rf.score(X_test, y_test))\n",
    "    \n",
    "plt.title(\"Score según nivel del árbol\")\n",
    "plt.xlabel(\"Número de arboles\")\n",
    "plt.ylabel(\"Score\")\n",
    "plt.plot(np.arange(1,200,10), scores)\n",
    "plt.show()"
   ]
  },
  {
   "cell_type": "markdown",
   "metadata": {
    "id": "vJpEXH-Ql4ET"
   },
   "source": [
    "Como se puede observar, el valor de 50 arboles es el que tiene valor más optimo para utilizar ya que se acerca al máximo de score y tiene un número reducido de arboles, por lo tanto se crea el bosque con este número para ser comparado con los resultados del arbol de decision."
   ]
  },
  {
   "cell_type": "code",
   "execution_count": 32,
   "metadata": {
    "colab": {
     "base_uri": "https://localhost:8080/"
    },
    "id": "NHPa1ViBmMA8",
    "outputId": "735bb426-595f-4190-8d11-fb94e0fde000"
   },
   "outputs": [
    {
     "name": "stdout",
     "output_type": "stream",
     "text": [
      "MSE: 851929445.8549521\n",
      "MAE: 17241.877602739725\n",
      "RMSE: 29187.83044104087\n",
      "RMSLE: 0.15706842421917117\n"
     ]
    }
   ],
   "source": [
    "rf = RandomForestRegressor(n_estimators = 50, random_state=42, max_features='auto')\n",
    "predicciones_rf = regresion(X_train, X_test, y_train, y_test, rf);"
   ]
  },
  {
   "cell_type": "markdown",
   "metadata": {
    "id": "cJLHQNaFiZ5e"
   },
   "source": [
    "Como se ha comentado para el arbol, se usará la metrica de MSE para analizar el error del bosque y comparar este con el arbol de decisión.\n",
    "\n",
    "Por un lado, observando el valor de la metrica de error MSE se puede ver que tiene un valor alto de unos 852 millones, pero en este rango de valores es normal tener estos números como se ha comentado anteriormente. Para ello se repersenta la gráfica de comparación como se ha realizado para el árbol."
   ]
  },
  {
   "cell_type": "code",
   "execution_count": 33,
   "metadata": {},
   "outputs": [
    {
     "data": {
      "image/png": "[encoded data removed]",
      "text/plain": [
       "<Figure size 432x288 with 1 Axes>"
      ]
     },
     "metadata": {
      "needs_background": "light"
     },
     "output_type": "display_data"
    }
   ],
   "source": [
    "dibujar_dispersion(y_test, predicciones_rf)"
   ]
  },
  {
   "cell_type": "markdown",
   "metadata": {},
   "source": [
    "Por otro lado, haciendo la comparación entre el error del arbol de decisión y el del random forest, el valor de MSE es bastante menor en el bosque siendo este de unos 500 millones menos y por lo tanto, en un caso real se utilizaria un random forest ya que predice con más precisión. Además se puede ver como en el bosque los datos estan mucho más centrados en la diagonal, por lo tanto a simple vista ya indica que es mejor. Como añadido a la comparación con la metrica MSE, el resto de variables de error también salen menores con los random forest.\n",
    "\n",
    "Aunque los dos modelos son válidos, y un punto a favor que tiene el arbol es que se puede interpretar viendo la imagen, no como el bosque que es un modelo de caja negra. Por lo tanto según el caso, se podría llegar a seleccionar el arbol por delante del bosque."
   ]
  },
  {
   "cell_type": "markdown",
   "metadata": {
    "id": "3keC1BJSSJji"
   },
   "source": [
    "# 5. Problema de clasificación"
   ]
  },
  {
   "cell_type": "markdown",
   "metadata": {},
   "source": [
    "Este es el segundo problema que se va a aforntar. Para este caso, se hará una clasificación de los precios en tres clases distintas:\n",
    "\n",
    "* Grupo 1: SalePrice menor o igual a 100000.\n",
    "\n",
    "* Grupo 2: SalePrice entre 100001 y 500000.\n",
    "\n",
    "* Grupo 3: SalePrice mayor o igual a 500000.\n",
    "\n",
    "Primero de todo, se crea una función parecida a la utilizada en la regresión, la cual a partir de los datos de resultado, se obtienen las metricas de error correspondientes a la clasificación."
   ]
  },
  {
   "cell_type": "code",
   "execution_count": 34,
   "metadata": {
    "id": "3OkJEL_PY8OQ"
   },
   "outputs": [],
   "source": [
    "def clasificacion(X_train, X_test, y_train, y_test, clasificador, prints_off=False):\n",
    "    clasificador.fit(X_train, y_train)\n",
    "    \n",
    "    predicciones = clasificador.predict(X_test)\n",
    "    \n",
    "    if not(prints_off):\n",
    "        print(f\"Exactitud: {accuracy_score(y_test, predicciones)}\")\n",
    "        #print(f\"Recall: {recall_score(y_test, predicciones, average='weighted')}\")\n",
    "        print(f\"F1_Score: {f1_score(y_test, predicciones, average='weighted')}\")\n",
    "        print(f\"Matriz de confusion:\\n {confusion_matrix(y_test, predicciones)}\")\n",
    "    \n",
    "    return predicciones"
   ]
  },
  {
   "cell_type": "markdown",
   "metadata": {
    "id": "XYzdLhgyY_zA"
   },
   "source": [
    "Un paso totalmente indispensable es preparar las categorias mencionadas para la variable. Para ello creamos una nueva columna la cual asignamos la clase en la que se encuentra cada edificio en venta."
   ]
  },
  {
   "cell_type": "code",
   "execution_count": 35,
   "metadata": {
    "id": "7F63vz71aPq5"
   },
   "outputs": [],
   "source": [
    "df_clf = df.copy(deep=True)\n",
    "\n",
    "df_clf[\"Categoria\"] = 1\n",
    "df_clf.loc[(df_clf[\"SalePrice\"] > 100000) & (df_clf[\"SalePrice\"] < 500000), \"Categoria\"] = 2\n",
    "df_clf.loc[df_clf[\"SalePrice\"] >= 500000, \"Categoria\"] = 3"
   ]
  },
  {
   "cell_type": "markdown",
   "metadata": {
    "id": "AriMfwLnaRkC"
   },
   "source": [
    "Se muestra la distribución de las clases."
   ]
  },
  {
   "cell_type": "code",
   "execution_count": 36,
   "metadata": {
    "colab": {
     "base_uri": "https://localhost:8080/"
    },
    "id": "c5X-5JwYaS4s",
    "outputId": "4282c0ea-7174-4d91-e4d9-16b54b48aa45"
   },
   "outputs": [
    {
     "data": {
      "text/plain": [
       "2    1328\n",
       "1     123\n",
       "3       9\n",
       "Name: Categoria, dtype: int64"
      ]
     },
     "execution_count": 36,
     "metadata": {},
     "output_type": "execute_result"
    }
   ],
   "source": [
    "df_clf.Categoria.value_counts()"
   ]
  },
  {
   "cell_type": "markdown",
   "metadata": {
    "id": "f5spdtuAaWXX"
   },
   "source": [
    "Como se puede observar, la clase 3, tiene un número muy reducido de variables, y por lo tanto se tendrá que trabajar con cuidado en la división del conjunto de entrenamiento y test, ya que si en el conjunto de entrenamiento no existe la clase 3, el algoritmo no podrá predecir la clase 3 en ningún caso y se obtendrán errores.\n",
    "\n",
    "Se elimina la columna de 'SalePrice' ya que si se dejara esta daria sobreajuste en el modelo."
   ]
  },
  {
   "cell_type": "code",
   "execution_count": 37,
   "metadata": {
    "id": "EvfH_UWRaVWB"
   },
   "outputs": [],
   "source": [
    "df_clf.drop(\"SalePrice\", axis=1, inplace=True)"
   ]
  },
  {
   "cell_type": "markdown",
   "metadata": {
    "id": "cnlx-NqqksoM"
   },
   "source": [
    "Se dividen los conjuntos de entrenamiento y test, utilizando un 80% de los datos para entrenamiento y el 20% restante para el test. En este caso como el tercer grupo es muy reducido dividimos los datos en 5 folds y así se asegura de que para el conjunto de entrenamiento exista la clase 3."
   ]
  },
  {
   "cell_type": "code",
   "execution_count": 38,
   "metadata": {},
   "outputs": [],
   "source": [
    "df_clf.sample(frac=1).reset_index(drop=True)\n",
    "df_clf[\"kfold\"] = -1\n",
    "y = df_clf.Categoria.values\n",
    "kf = StratifiedKFold(5, shuffle=True)\n",
    "for fold, (x, y) in enumerate(kf.split(X=df_clf, y=y)):\n",
    "    df_clf.loc[y, \"kfold\"] = fold"
   ]
  },
  {
   "cell_type": "markdown",
   "metadata": {},
   "source": [
    "Se comprueva que en los distintos folds hay la misma proporción de cada clase."
   ]
  },
  {
   "cell_type": "code",
   "execution_count": 39,
   "metadata": {},
   "outputs": [
    {
     "name": "stdout",
     "output_type": "stream",
     "text": [
      "Fold: 0\n",
      "2    266\n",
      "1     25\n",
      "3      1\n",
      "Name: Categoria, dtype: int64\n",
      "\n",
      "Fold: 1\n",
      "2    266\n",
      "1     24\n",
      "3      2\n",
      "Name: Categoria, dtype: int64\n",
      "\n",
      "Fold: 2\n",
      "2    266\n",
      "1     24\n",
      "3      2\n",
      "Name: Categoria, dtype: int64\n",
      "\n",
      "Fold: 3\n",
      "2    265\n",
      "1     25\n",
      "3      2\n",
      "Name: Categoria, dtype: int64\n",
      "\n",
      "Fold: 4\n",
      "2    265\n",
      "1     25\n",
      "3      2\n",
      "Name: Categoria, dtype: int64\n",
      "\n"
     ]
    }
   ],
   "source": [
    "for fold in range(0,5):\n",
    "    print(f\"Fold: {fold}\")\n",
    "    print(df_clf[df_clf[\"kfold\"] == fold].Categoria.value_counts())\n",
    "    print()"
   ]
  },
  {
   "cell_type": "markdown",
   "metadata": {},
   "source": [
    "A continuación se realiza la separación de los datos, en la que se convierten los datos categóricos a numéricos como se ha realizado para la regresión."
   ]
  },
  {
   "cell_type": "code",
   "execution_count": 40,
   "metadata": {},
   "outputs": [],
   "source": [
    "new_numericos = [column for column in df_clf.drop([\"Categoria\",\"kfold\"],axis=1).columns if df_clf.dtypes[column] != 'object']\n",
    "new_categoricos = [column for column in df_clf.drop([\"Categoria\",\"kfold\"],axis=1).columns if df_clf.dtypes[column] == 'object']\n",
    "df_ = cual2num(df_clf,new_categoricos)\n",
    "\n",
    "X_train = df_[df_.kfold != 1].drop([\"Categoria\",\"kfold\"],axis=1)\n",
    "y_train = df_[df_.kfold != 1].Categoria\n",
    "X_test = df_[df_.kfold == 1].drop([\"Categoria\",\"kfold\"],axis=1)\n",
    "y_test = df_[df_.kfold == 1].Categoria"
   ]
  },
  {
   "cell_type": "markdown",
   "metadata": {},
   "source": [
    "Se asegura de que en los datos de entrenamiento existen elementos de la tercera clase. "
   ]
  },
  {
   "cell_type": "code",
   "execution_count": 41,
   "metadata": {},
   "outputs": [
    {
     "data": {
      "text/plain": [
       "2    1062\n",
       "1      99\n",
       "3       7\n",
       "Name: Categoria, dtype: int64"
      ]
     },
     "execution_count": 41,
     "metadata": {},
     "output_type": "execute_result"
    }
   ],
   "source": [
    "y_train.value_counts()"
   ]
  },
  {
   "cell_type": "markdown",
   "metadata": {
    "colab": {
     "base_uri": "https://localhost:8080/"
    },
    "id": "dU-NEvkLaktv",
    "outputId": "2dcc9e94-f09b-47a1-aa97-e4a54461a9bf"
   },
   "source": [
    "Como se puede ver, existen valores de las 3 clases en el conjunto de entrenamiento, por lo tanto, se continua con esta división de los datos.\n",
    "\n",
    "Cabe mencionar, que al realizar la separación de los datos de entranamiento y de test con este metodo y sin realizar un metodo de validación k-fold completo, cada vez que se repita la comprovación, puede haber cierta varianza en los resultados del arbol de decisión y del random forest, ya que no simpre se va a entrenar con los mismos datos, pero aún así, se pueden extraer las mismas conclusiones."
   ]
  },
  {
   "cell_type": "markdown",
   "metadata": {
    "id": "8e2ye4f1SK0n"
   },
   "source": [
    "##### Arbol de decisión"
   ]
  },
  {
   "cell_type": "markdown",
   "metadata": {},
   "source": [
    "Primero de todo creamos y mostramos el arbol de decisión para evaluar si podarlo o no."
   ]
  },
  {
   "cell_type": "code",
   "execution_count": 42,
   "metadata": {
    "id": "jzuQ0EScazW2"
   },
   "outputs": [
    {
     "data": {
      "image/png": "[encoded data removed]",
      "text/plain": [
       "<Figure size 432x288 with 1 Axes>"
      ]
     },
     "metadata": {
      "needs_background": "light"
     },
     "output_type": "display_data"
    }
   ],
   "source": [
    "dt_clf = DecisionTreeClassifier(random_state=42)\n",
    "\n",
    "fig = plt.figure()\n",
    "dt_clf.fit(X_train, y_train)\n",
    "tree.plot_tree(dt_clf);"
   ]
  },
  {
   "cell_type": "markdown",
   "metadata": {},
   "source": [
    "Como se puede ver, el arbol queda ya muy reducido, se podria seguir con el arbol sin podar, pero se decide buscar con que profundidad da mejores resultados para comparar su mejor versión con los bosques."
   ]
  },
  {
   "cell_type": "code",
   "execution_count": 43,
   "metadata": {},
   "outputs": [
    {
     "data": {
      "image/png": "[encoded data removed]",
      "text/plain": [
       "<Figure size 432x288 with 1 Axes>"
      ]
     },
     "metadata": {
      "needs_background": "light"
     },
     "output_type": "display_data"
    }
   ],
   "source": [
    "scores = []\n",
    "num_variables = len(list(df))\n",
    "n_niveles = range(1, num_variables + 1)\n",
    "\n",
    "\n",
    "for n in n_niveles:\n",
    "    dt_clf.set_params(max_depth = n)\n",
    "    dt_clf.fit(X_train, y_train)\n",
    "    scores.append(dt_clf.score(X_test, y_test))\n",
    "    \n",
    "plt.title(\"Score según nivel del árbol\")\n",
    "plt.xlabel(\"Número de niveles\")\n",
    "plt.ylabel(\"Score\")\n",
    "plt.plot(n_niveles, scores)\n",
    "plt.show()"
   ]
  },
  {
   "cell_type": "markdown",
   "metadata": {},
   "source": [
    "Con una profundidad de 5 se obtiene el mejor valor para el arbol, por lo tanto en este caso se va a usar este valor de profundidad, aunque no se estabilize hasta una profundidad cercana a los 20 niveles."
   ]
  },
  {
   "cell_type": "code",
   "execution_count": 44,
   "metadata": {},
   "outputs": [
    {
     "data": {
      "image/png": "[encoded data removed]",
      "text/plain": [
       "<Figure size 432x288 with 1 Axes>"
      ]
     },
     "metadata": {
      "needs_background": "light"
     },
     "output_type": "display_data"
    }
   ],
   "source": [
    "dt_clf = DecisionTreeClassifier(max_depth = 5, random_state=42)\n",
    "\n",
    "fig = plt.figure()\n",
    "dt_clf.fit(X_train, y_train)\n",
    "tree.plot_tree(dt_clf);"
   ]
  },
  {
   "cell_type": "code",
   "execution_count": 45,
   "metadata": {},
   "outputs": [
    {
     "name": "stdout",
     "output_type": "stream",
     "text": [
      "Exactitud: 0.9246575342465754\n",
      "F1_Score: 0.9164835905471805\n",
      "Matriz de confusion:\n",
      " [[  9  15   0]\n",
      " [  6 260   0]\n",
      " [  0   1   1]]\n"
     ]
    }
   ],
   "source": [
    "predicciones = clasificacion(X_train, X_test, y_train, y_test, dt_clf);"
   ]
  },
  {
   "cell_type": "markdown",
   "metadata": {
    "colab": {
     "base_uri": "https://localhost:8080/",
     "height": 337
    },
    "id": "c6OlSHnDa2tQ",
    "outputId": "5869fd56-bfe9-4e3b-da50-c7245792b221"
   },
   "source": [
    "Las metricas de error salen muy buenas, con una exactitud del 0.925%, la matriz de confusión marca que los datos para la clase 2 son buenos, para la clase 1 acierta bastante, pero para la tercera clase no tiene buena clasificacion debido a que esa tercera clase contiene muy pocas muestras y no marca ningun dato como cierto, si se hubiese usado un arbol de profundidad mayor, es possible haber podido predecir algun valor de la clase 3 gracias a tener más profundidad con una clase tan reducida, pero por culpa del overfitting se hubiera perdido efectividad en las otras dos classes."
   ]
  },
  {
   "cell_type": "markdown",
   "metadata": {
    "id": "uDmJ9kUYSrum"
   },
   "source": [
    "##### Random forests"
   ]
  },
  {
   "cell_type": "markdown",
   "metadata": {},
   "source": [
    "Para los bosques se va a seguir el mismo proceso que para los arboles. Para evitar añadir error por la separación de los datos, se va a usar exactamente la misma que para el arbol de decisión."
   ]
  },
  {
   "cell_type": "code",
   "execution_count": 46,
   "metadata": {
    "id": "d7ZRxroSa-fs"
   },
   "outputs": [],
   "source": [
    "rf_clf = RandomForestClassifier(random_state=42)"
   ]
  },
  {
   "cell_type": "markdown",
   "metadata": {},
   "source": [
    "Se grafican los resultados de exactitud con diferentes numeros de arboles en el rendom forest."
   ]
  },
  {
   "cell_type": "code",
   "execution_count": 47,
   "metadata": {},
   "outputs": [
    {
     "data": {
      "image/png": "[encoded data removed]",
      "text/plain": [
       "<Figure size 432x288 with 1 Axes>"
      ]
     },
     "metadata": {
      "needs_background": "light"
     },
     "output_type": "display_data"
    }
   ],
   "source": [
    "values = []\n",
    "for n in np.arange(1,200,10):\n",
    "    rf_clf.set_params(n_estimators=n)\n",
    "    rf_clf.fit(X_train, y_train)\n",
    "    values.append(rf_clf.score(X_test, y_test))\n",
    "\n",
    "plt.title(\"Score según nivel del árbol\")\n",
    "plt.xlabel(\"Número de arboles\")\n",
    "plt.ylabel(\"Score\")\n",
    "plt.plot(np.arange(1,200,10), values)\n",
    "plt.show()"
   ]
  },
  {
   "cell_type": "markdown",
   "metadata": {},
   "source": [
    "Los mejores valores se obtienen en el valor de 100 arboles, por lo tanto se usa este número para el random forest."
   ]
  },
  {
   "cell_type": "code",
   "execution_count": 48,
   "metadata": {},
   "outputs": [
    {
     "name": "stdout",
     "output_type": "stream",
     "text": [
      "Exactitud: 0.9452054794520548\n",
      "F1_Score: 0.936076593579032\n",
      "Matriz de confusion:\n",
      " [[ 12  12   0]\n",
      " [  2 264   0]\n",
      " [  0   2   0]]\n"
     ]
    }
   ],
   "source": [
    "rf_clf = RandomForestClassifier(n_estimators = 100, random_state=42)\n",
    "predicciones = clasificacion(X_train, X_test, y_train, y_test, rf_clf);"
   ]
  },
  {
   "cell_type": "markdown",
   "metadata": {
    "id": "CL1DFlhnbBtZ"
   },
   "source": [
    "En este caso se obtiene un valor de exactitud de 0.945, que es un valor muy bueno y esto indica que el bosque predecira con gran acierto. Obersvando la matriz de confusión, se puede ver que para la clase 3 tampoco hay verdaderos positivos, y que predice bien la clase 2, pero la clase 1 la predice con cierto error.\n",
    "\n",
    "En este caso, el bosque supera al arbol por un margen bajo, por lo tanto se considera que el modelo de random forest es mejor a nivel de metricas. En ambas hay mala clasificacion para la tercera variable, por lo que se podría valorar el juntar la clase 2 con la clase número 3, pero como lo que se ganaría no aportaría ninguna diferencia de como se encuentra actualmente, se ha considerado que mantener las tres clases es la mejor opción.\n",
    "\n",
    "Comparando los 2 modelos se puede encontra la curiosidad de que el arbol predice mejor la clase 1 y los bosques predicen mejor la clase 2, este hecho puede llevar a decantarse por un modelo u otro según la clase que sea de más interes para que tenga mejor predicción. \n",
    "\n",
    "Observando las metricas de F1 de ambos modelos, se vuelve a confirmar que el bosque tiene mejor resultado, aunque por un margen ajustado."
   ]
  },
  {
   "cell_type": "markdown",
   "metadata": {},
   "source": [
    "#### Pruebas extra"
   ]
  },
  {
   "cell_type": "markdown",
   "metadata": {},
   "source": [
    "##### Grid Search"
   ]
  },
  {
   "cell_type": "code",
   "execution_count": 70,
   "metadata": {},
   "outputs": [],
   "source": [
    "params = {\"n_estimators\":(20,50,100,250,500),\n",
    "         \"criterion\":(\"gini\",\"entropy\"),\n",
    "         \"max_depth\":(10,30,50,None),\n",
    "         \"max_leaf_nodes\":(None,4,10,20,40)}\n",
    "rf_grid = RandomForestClassifier()\n",
    "grid_search = GridSearchCV(rf_grid, params,cv=5)"
   ]
  },
  {
   "cell_type": "code",
   "execution_count": 71,
   "metadata": {},
   "outputs": [
    {
     "data": {
      "text/plain": [
       "GridSearchCV(cv=5, estimator=RandomForestClassifier(),\n",
       "             param_grid={'criterion': ('gini', 'entropy'),\n",
       "                         'max_depth': (10, 30, 50, None),\n",
       "                         'max_leaf_nodes': (None, 4, 10, 20, 40),\n",
       "                         'n_estimators': (20, 50, 100, 250, 500)})"
      ]
     },
     "execution_count": 71,
     "metadata": {},
     "output_type": "execute_result"
    }
   ],
   "source": [
    "grid_search.fit(X_train,y_train)"
   ]
  },
  {
   "cell_type": "code",
   "execution_count": 73,
   "metadata": {},
   "outputs": [
    {
     "data": {
      "text/plain": [
       "{'criterion': 'entropy',\n",
       " 'max_depth': 30,\n",
       " 'max_leaf_nodes': None,\n",
       " 'n_estimators': 100}"
      ]
     },
     "execution_count": 73,
     "metadata": {},
     "output_type": "execute_result"
    }
   ],
   "source": [
    "grid_search.best_params_"
   ]
  },
  {
   "cell_type": "markdown",
   "metadata": {},
   "source": [
    "##### Cross Validation"
   ]
  },
  {
   "cell_type": "code",
   "execution_count": 76,
   "metadata": {},
   "outputs": [],
   "source": [
    "prediction_list = []\n",
    "accuracy_list = []\n",
    "f1_score_list = []\n",
    "\n",
    "for i in df_.kfold.unique():\n",
    "    \n",
    "    clasificador = RandomForestClassifier()\n",
    "    \n",
    "    X_train = df_[df_.kfold != i].drop([\"Categoria\",\"kfold\"],axis=1)\n",
    "    y_train = df_[df_.kfold != i].Categoria\n",
    "    X_test = df_[df_.kfold == i].drop([\"Categoria\",\"kfold\"],axis=1)\n",
    "    y_test = df_[df_.kfold == i].Categoria\n",
    "    \n",
    "    clasificador.fit(X_train, y_train)\n",
    "    \n",
    "    predicciones = clasificador.predict(X_test)\n",
    "    \n",
    "    prediction_list.append(predicciones)\n",
    "    accuracy_list.append(accuracy_score(y_test, predicciones))\n",
    "    f1_score_list.append(f1_score(y_test, predicciones, average='weighted'))"
   ]
  },
  {
   "cell_type": "code",
   "execution_count": 77,
   "metadata": {},
   "outputs": [
    {
     "data": {
      "text/plain": [
       "[0.9452054794520548,\n",
       " 0.9417808219178082,\n",
       " 0.9452054794520548,\n",
       " 0.952054794520548,\n",
       " 0.9486301369863014]"
      ]
     },
     "execution_count": 77,
     "metadata": {},
     "output_type": "execute_result"
    }
   ],
   "source": [
    "accuracy_list"
   ]
  },
  {
   "cell_type": "code",
   "execution_count": 69,
   "metadata": {},
   "outputs": [
    {
     "data": {
      "text/plain": [
       "[0.9333098857284372,\n",
       " 0.937491785876763,\n",
       " 0.9344924481910782,\n",
       " 0.9440239094171763,\n",
       " 0.9445927343540156]"
      ]
     },
     "execution_count": 69,
     "metadata": {},
     "output_type": "execute_result"
    }
   ],
   "source": [
    "f1_score_list"
   ]
  },
  {
   "cell_type": "markdown",
   "metadata": {},
   "source": [
    "Al probar la validación cruzada, usando 5 capas y el metodo _Stratified_, el cual permite mantener el mismo balance entre clases que en el conjunto de datos original, podemos ver como en lsa distintas capas la precisión cambia, siendo superior en las dos ultimas. Por ende, a la hora de escoger nuestro modelo, podriamos probar a unir los distintos modelos obtenidos para cada capa con un metodo de ensamble o limitarnos a coger el modelo con más precisión de los 5 en la evaluación."
   ]
  }
 ],
 "metadata": {
  "colab": {
   "collapsed_sections": [],
   "name": "ML_act1.ipynb",
   "provenance": []
  },
  "kernelspec": {
   "display_name": "Python 3",
   "language": "python",
   "name": "python3"
  },
  "language_info": {
   "codemirror_mode": {
    "name": "ipython",
    "version": 3
   },
   "file_extension": ".py",
   "mimetype": "text/x-python",
   "name": "python",
   "nbconvert_exporter": "python",
   "pygments_lexer": "ipython3",
   "version": "3.7.9"
  }
 },
 "nbformat": 4,
 "nbformat_minor": 1
}
